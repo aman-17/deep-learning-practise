{
  "cells": [
    {
      "cell_type": "code",
      "execution_count": 1,
      "metadata": {
        "id": "ew9eygroHxd7"
      },
      "outputs": [],
      "source": [
        "import os\n",
        "import numpy as np\n",
        "import pandas as pd\n",
        "from matplotlib import pyplot as plt\n",
        "import tensorflow as tf\n",
        "\n",
        "from sklearn.model_selection import train_test_split\n",
        "from keras import Input, Model\n",
        "from keras import backend as K\n",
        "from keras.models import  Sequential\n",
        "from keras.layers import Dense\n",
        "from keras.utils import *\n",
        "from sklearn.impute import SimpleImputer"
      ]
    },
    {
      "cell_type": "code",
      "execution_count": 2,
      "metadata": {
        "colab": {
          "base_uri": "https://localhost:8080/"
        },
        "id": "XXPQ7KhEjWOQ",
        "outputId": "02b6e02f-6935-45ce-ba7c-46e148a038f9"
      },
      "outputs": [
        {
          "name": "stdout",
          "output_type": "stream",
          "text": [
            "(1595, 122)\n",
            "(399, 122)\n",
            "(1595, 1)\n",
            "(399, 1)\n"
          ]
        }
      ],
      "source": [
        "def load_crime_data(crime_dataUCI):\n",
        "  crime_dataUCI = pd.read_csv(crime_dataUCI, header=None)\n",
        "  crime_dataUCI = crime_dataUCI.replace('?', np.NAN)\n",
        "  crime_dataUCI = crime_dataUCI.values\n",
        "\n",
        "  x = crime_dataUCI[:, 5:127].astype(\"float\")\n",
        "  y = crime_dataUCI[:, 127:128].astype(\"float\")\n",
        "  x_train, x_test, y_train, y_test = train_test_split(x, y, test_size=0.2)\n",
        "\n",
        "  fix_nan = SimpleImputer(missing_values=np.NaN, strategy='mean')\n",
        "  x_train = fix_nan.fit_transform(x_train)\n",
        "  y_train = fix_nan.fit_transform(y_train)\n",
        "  x_test = fix_nan.fit_transform(x_test)\n",
        "  y_test = fix_nan.fit_transform(y_test)\n",
        "\n",
        "  print(x_train.shape)\n",
        "  print(x_test.shape)\n",
        "  print(y_train.shape)\n",
        "  print(y_test.shape)\n",
        "  data = x_train, y_train, x_test, y_test\n",
        "  return data\n",
        "\n",
        "data_loader = load_crime_data('https://archive.ics.uci.edu/ml/machine-learning-databases/communities/communities.data')\n"
      ]
    },
    {
      "cell_type": "code",
      "execution_count": 3,
      "metadata": {
        "id": "UyrXLN-W9yaM"
      },
      "outputs": [],
      "source": [
        "def load_crime_data(crime_dataframe):\n",
        "  crime_df = pd.read_csv(crime_dataframe, delim_whitespace= False, header=None)\n",
        "  crime_df = crime_df.replace('?', np.NAN)\n",
        "  crime_df = crime_df.values  \n",
        "  x_train = crime_df[:1500,5:127].astype(\"float\")\n",
        "  x_test = crime_df[1500:,5:127].astype(\"float\")\n",
        "  y_train = crime_df[:1500,127:128].astype(\"float\")\n",
        "  y_test = crime_df[1500:,127:128].astype(\"float\")\n",
        "  fix_nan = SimpleImputer(missing_values=np.NaN, strategy='mean')\n",
        "  x_train = fix_nan.fit_transform(x_train)\n",
        "  y_train = fix_nan.fit_transform(y_train)\n",
        "  x_test = fix_nan.fit_transform(x_test)\n",
        "  y_test = fix_nan.fit_transform(y_test)\n",
        "  data = (x_train, y_train, x_test, y_test)\n",
        "  return data\n",
        "\n",
        "data_loader = load_crime_data('https://archive.ics.uci.edu/ml/machine-learning-databases/communities/communities.data')\n"
      ]
    },
    {
      "cell_type": "code",
      "execution_count": 4,
      "metadata": {
        "colab": {
          "base_uri": "https://localhost:8080/"
        },
        "id": "vNVaA4kOsbzv",
        "outputId": "882c47fc-f4d5-412d-b8de-6d3ca5964a6d"
      },
      "outputs": [
        {
          "name": "stdout",
          "output_type": "stream",
          "text": [
            "Model: \"crime_data_model\"\n",
            "_________________________________________________________________\n",
            " Layer (type)                Output Shape              Param #   \n",
            "=================================================================\n",
            " dense_layer1 (Dense)        (None, 64)                7872      \n",
            "                                                                 \n",
            " dense_layer2 (Dense)        (None, 64)                4160      \n",
            "                                                                 \n",
            " dense_layer3 (Dense)        (None, 1)                 65        \n",
            "                                                                 \n",
            "=================================================================\n",
            "Total params: 12,097\n",
            "Trainable params: 12,097\n",
            "Non-trainable params: 0\n",
            "_________________________________________________________________\n"
          ]
        }
      ],
      "source": [
        "def crime_model():\n",
        "\n",
        "  model = tf.keras.Sequential(name=\"crime_data_model\")\n",
        "  model.add(Dense(64,input_shape=(data_loader[0].shape[1],),activation='relu', name='dense_layer1'))\n",
        "  model.add(Dense(64,activation='relu',name='dense_layer2'))\n",
        "  model.add(Dense(1,activation='sigmoid',name='dense_layer3'))\n",
        "\n",
        "  return model\n",
        "\n",
        "model = crime_model()\n",
        "\n",
        "\n",
        "model.summary()"
      ]
    },
    {
      "cell_type": "code",
      "execution_count": null,
      "metadata": {
        "colab": {
          "base_uri": "https://localhost:8080/"
        },
        "id": "ET3uzfFQy1nI",
        "outputId": "8d9026e7-10d4-41d1-d9a6-44367528b53a"
      },
      "outputs": [
        {
          "name": "stdout",
          "output_type": "stream",
          "text": [
            "Running fold number  1\n",
            "12/12 [==============================] - 0s 2ms/step - loss: 0.0274 - mae: 0.1097\n",
            "Test MAE scores : 0.10973179340362549\n",
            "Running fold number  2\n",
            "12/12 [==============================] - 0s 2ms/step - loss: 0.0337 - mae: 0.1268\n",
            "Test MAE scores : 0.12676183879375458\n",
            "Running fold number  3\n",
            "12/12 [==============================] - 0s 2ms/step - loss: 0.0217 - mae: 0.1004\n",
            "Test MAE scores : 0.10040862113237381\n",
            "Running fold number  4\n",
            "12/12 [==============================] - 0s 3ms/step - loss: 0.0225 - mae: 0.1016\n",
            "Test MAE scores : 0.1016499325633049\n",
            "Average Validation MAE history [0.14820356667041779, 0.10858486033976078, 0.1009183581918478, 0.09886773489415646, 0.09669263660907745, 0.09665131568908691, 0.09657660499215126, 0.09410140663385391, 0.09449742920696735, 0.09267375059425831, 0.09257464855909348, 0.09224149398505688, 0.09115373715758324, 0.09102728962898254, 0.09127678535878658, 0.09054592251777649, 0.08966048806905746, 0.09022919274866581, 0.08912646397948265, 0.08739243820309639, 0.08783716522157192, 0.08706739731132984, 0.08767630904912949, 0.08625486120581627, 0.08538883179426193, 0.08539681881666183, 0.08448947221040726, 0.08419187553226948, 0.08426148816943169, 0.0836181566119194, 0.08377467095851898, 0.0826177578419447, 0.0822206549346447, 0.08189427852630615, 0.08215425722301006, 0.08201449364423752, 0.08055030554533005, 0.08039945177733898, 0.0806691087782383, 0.08036255091428757, 0.078796012327075, 0.07892870530486107, 0.07859736680984497, 0.07901104353368282, 0.07767662778496742, 0.0781540535390377, 0.07635852508246899, 0.07629495672881603, 0.07567618414759636, 0.07636084221303463, 0.07555633969604969, 0.07488281093537807, 0.07455911114811897, 0.07447623088955879, 0.07274679653346539, 0.07361245714128017, 0.0730495136231184, 0.07354934886097908, 0.07245591282844543, 0.07287198677659035, 0.07245497219264507, 0.07071644626557827, 0.07147078402340412, 0.0707616787403822, 0.07085111550986767, 0.06966567132622004, 0.06930371187627316, 0.06923838052898645, 0.06923428177833557, 0.06849322002381086, 0.0689905472099781, 0.06812670920044184, 0.0683125052601099, 0.06784973852336407, 0.06767876446247101, 0.06639781128615141, 0.06730786804109812, 0.06623861473053694, 0.06525556277483702, 0.06603582482784986, 0.06530296429991722, 0.06535123754292727, 0.06581722386181355, 0.0645207492634654, 0.06414331216365099, 0.06430827267467976, 0.0645018182694912, 0.06332505214959383, 0.062410357408225536, 0.0634585851803422, 0.06271220929920673, 0.06225717719644308, 0.0624761488288641, 0.06208436097949743, 0.061938623897731304, 0.06073577702045441, 0.0610777772963047, 0.06044285651296377, 0.06083577685058117, 0.06054500211030245, 0.059905124828219414, 0.059931088238954544, 0.05999922566115856, 0.059748850762844086, 0.05819045286625624, 0.05876860674470663, 0.05905706528574228, 0.058666422963142395, 0.05817860458046198, 0.05738561321049929, 0.05742550641298294, 0.057066841050982475, 0.05796855874359608, 0.056402673944830894, 0.05668105650693178, 0.055404823273420334, 0.056086231023073196, 0.0549983037635684, 0.056110345758497715, 0.0539379995316267, 0.05498076044023037, 0.054386913776397705, 0.055059460923075676, 0.05391261260956526, 0.05439869500696659, 0.05383944883942604, 0.05334849935024977, 0.05220227502286434, 0.05269408505409956, 0.05224271584302187, 0.0523182712495327, 0.052857834845781326, 0.05214609671384096, 0.05188221391290426, 0.052177621982991695, 0.05117203947156668, 0.051360663026571274, 0.05059970077127218, 0.051170374266803265, 0.05028793029487133, 0.050185102969408035, 0.051153840497136116, 0.05005027633160353, 0.0504629323258996, 0.04939310811460018, 0.04891475848853588, 0.04882355406880379, 0.049791364930570126, 0.048748658038675785, 0.04923560470342636, 0.04766204301267862, 0.04875847138464451, 0.047783154994249344, 0.047768049873411655, 0.04806220531463623, 0.04790005646646023, 0.04729069769382477, 0.04645047336816788, 0.04728845413774252, 0.04584412928670645, 0.046310655772686005, 0.04633879754692316, 0.04630979895591736, 0.04593255277723074, 0.04578794911503792, 0.046206673607230186, 0.0452808141708374, 0.04587127547711134, 0.04545397311449051, 0.04529075790196657, 0.04454371705651283, 0.045391667634248734, 0.04507885221391916, 0.0454196585342288, 0.04349901061505079, 0.04425186105072498, 0.04381878674030304, 0.04444489162415266, 0.04278911929577589, 0.04351884871721268, 0.044063000939786434, 0.0433175778016448, 0.04339721705764532, 0.042232303880155087, 0.043558438308537006, 0.04254619311541319, 0.04229502845555544, 0.04259266518056393, 0.04172860737890005, 0.042072814889252186, 0.04225778114050627, 0.04203314892947674, 0.04211628530174494, 0.04203264694660902, 0.041295249946415424, 0.040045914240181446, 0.041799322701990604, 0.04099068604409695, 0.04103041999042034, 0.04127920512109995, 0.04036267288029194, 0.03992721624672413, 0.040519921109080315, 0.039743056520819664, 0.04070777352899313, 0.03993303421884775, 0.04064448829740286, 0.03901428449898958, 0.0391269838437438, 0.04006235860288143, 0.038791289553046227, 0.03998709563165903, 0.03951705992221832, 0.03821277432143688, 0.03825876396149397, 0.03909494448453188, 0.03854920994490385, 0.038698675110936165, 0.03862078208476305, 0.03805531468242407, 0.03818405233323574, 0.037690323777496815, 0.03827045764774084, 0.03705228306353092, 0.0388712240383029, 0.03751577716320753, 0.0384195689111948, 0.0371882701292634, 0.03769032284617424, 0.03833719156682491, 0.036882560700178146, 0.03702580276876688, 0.03672814927995205, 0.03711855877190828, 0.03725000098347664, 0.03630594722926617, 0.03722201194614172, 0.035941870883107185, 0.037299057468771935, 0.0352243036031723, 0.03618269134312868, 0.03529766481369734, 0.03636282868683338, 0.03572474326938391, 0.03652054350823164, 0.03611648362129927, 0.03561362810432911, 0.035451765172183514, 0.03627914283424616, 0.03538316488265991, 0.03588086739182472, 0.03436958882957697, 0.035660856403410435, 0.03442950127646327, 0.03527957573533058, 0.0348650049418211, 0.034915925934910774, 0.03445237874984741, 0.035038708709180355, 0.03485348913818598, 0.03402229258790612, 0.03409575577825308, 0.034245600923895836, 0.034402502700686455, 0.03458155784755945, 0.033642460592091084, 0.03433589078485966, 0.03380191419273615, 0.032873108983039856, 0.033045762684196234, 0.033426588866859674, 0.033509550616145134, 0.033598355017602444, 0.033467108849436045, 0.03398459730669856, 0.033122864086180925, 0.03308138623833656, 0.03290634602308273, 0.03295425418764353, 0.033041615039110184, 0.0330062392167747, 0.031756420619785786, 0.03234192496165633, 0.03261342225596309, 0.03222526842728257, 0.0326576791703701, 0.03265107190236449, 0.031808242201805115, 0.03262255573645234, 0.03169299755245447, 0.03172981832176447, 0.0319602913223207, 0.03188882768154144, 0.0323325558565557, 0.03216787474229932, 0.03208211623132229, 0.031224485021084547, 0.03160998737439513, 0.03161413595080376, 0.030633602757006884, 0.031214253045618534, 0.03111694846302271, 0.031066316179931164, 0.03182146372273564, 0.03194062830880284, 0.031308707781136036, 0.03116892883554101, 0.03079498326405883, 0.031095632817596197, 0.030836555641144514, 0.030845005530864, 0.031168172601610422, 0.030488620977848768, 0.030273213982582092, 0.03065197914838791, 0.030445491895079613, 0.03010983346030116, 0.030204799491912127, 0.029935299418866634, 0.030867766123265028, 0.029935098253190517, 0.030503241810947657, 0.029223503544926643, 0.03028665343299508, 0.029256476555019617, 0.02881970163434744, 0.03040614863857627, 0.029665800742805004, 0.03032712871208787, 0.02923225425183773, 0.029519754461944103, 0.029227531980723143, 0.029722680803388357, 0.029357411433011293, 0.029612268321216106, 0.029378762934356928, 0.0289192833006382, 0.02987982938066125, 0.028328185435384512, 0.029743774328380823, 0.02907307678833604, 0.028594885021448135, 0.02850215183570981, 0.029479351826012135, 0.02802310837432742, 0.02890190901234746, 0.02931849891319871, 0.02844259748235345, 0.0283421385101974, 0.028485306072980165, 0.02924240194261074, 0.02894297754392028, 0.028472119010984898, 0.02824524836614728, 0.028541256673634052, 0.028324384707957506, 0.02773378137499094, 0.02761821635067463, 0.028209072537720203, 0.027965061366558075, 0.02810580562800169, 0.028460421599447727, 0.027565518859773874, 0.028328213840723038, 0.02787367533892393, 0.027391781099140644, 0.027218470815569162, 0.027209026273339987, 0.027709562797099352, 0.028157140128314495, 0.027357439044862986, 0.028176717460155487, 0.02734192553907633, 0.027539723552763462, 0.027440716978162527, 0.027031076606363058, 0.027319074142724276, 0.027547338977456093, 0.027529653627425432, 0.026790969539433718, 0.02663905406370759, 0.027053558733314276, 0.02758322563022375, 0.026649228297173977, 0.02685154275968671, 0.027395638171583414, 0.027468259911984205, 0.026655794121325016, 0.026638787239789963, 0.027199376840144396, 0.026310893706977367, 0.026561691891402006, 0.027217911556363106, 0.02659402322024107, 0.026524767745286226, 0.026515355799347162, 0.025894157588481903, 0.026459456887096167, 0.026147200260311365, 0.026142857503145933, 0.026436223182827234, 0.026727661956101656, 0.025645707733929157, 0.02707838360220194, 0.025905686430633068, 0.025982793886214495, 0.0261476868763566, 0.026099765673279762, 0.02578075136989355, 0.026069441810250282, 0.02559195552021265, 0.025396420154720545, 0.025954574812203646, 0.02614733250811696, 0.025902606081217527, 0.02646196400746703, 0.02527832007035613, 0.026121550239622593, 0.026150368619710207, 0.02565095294266939, 0.02604313800111413, 0.025195604655891657, 0.025213309098035097, 0.02581716887652874, 0.02554403292015195, 0.02456759801134467, 0.02561008231714368, 0.025489538442343473, 0.025264002848416567, 0.025107088964432478, 0.02537773735821247, 0.024517240934073925, 0.02584273973479867, 0.025728147476911545, 0.024523227009922266, 0.025407892651855946, 0.024768888019025326, 0.025281590409576893, 0.025261028204113245, 0.025142536964267492, 0.02491927007213235, 0.025003743823617697, 0.02454205509275198, 0.024163063149899244, 0.02498838398605585, 0.02436614129692316, 0.024399046786129475, 0.024646487087011337, 0.02429761365056038, 0.025489425286650658, 0.024825389962643385, 0.02439213450998068, 0.02450774423778057, 0.02436242625117302, 0.024849053006619215, 0.02506171027198434, 0.024205992463976145, 0.024389051366597414, 0.02422658447176218, 0.024020524695515633, 0.02449376555159688, 0.024280216544866562, 0.02386174350976944, 0.024680099915713072, 0.023758329916745424, 0.023669609799981117, 0.02493446273729205, 0.023551518097519875, 0.023696787655353546, 0.024111251812428236, 0.024420905858278275, 0.02353182388469577, 0.024009866639971733, 0.023618209175765514, 0.02424225816503167, 0.023520319256931543, 0.02340524410828948, 0.023788302205502987, 0.024188236333429813, 0.023882765788584948, 0.02345642214640975, 0.023199673742055893, 0.02288021519780159, 0.023780419025570154, 0.02345093386247754, 0.024070867337286472, 0.023330925963819027, 0.023647530004382133, 0.0231242417357862, 0.02366661699488759, 0.022708593867719173, 0.024653849191963673, 0.023181899450719357, 0.022576929535716772, 0.023562132846564054, 0.02343861013650894, 0.02309015579521656, 0.02314701909199357, 0.023112114518880844, 0.023055035155266523]\n"
          ]
        }
      ],
      "source": [
        "my_callbacks = [\n",
        "    tf.keras.callbacks.EarlyStopping(patience=20),\n",
        "    tf.keras.callbacks.ModelCheckpoint(\n",
        "        filepath='/content/model-01-{epoch:02d}-loss_{loss:.3f}_val_acc{val_accuracy:.3f}.h5',\n",
        "        monitor = 'val_accuracy',\n",
        "        save_best_only = True\n",
        "        ),\n",
        "    tf.keras.callbacks.ReduceLROnPlateau(\n",
        "        monitor = 'loss',\n",
        "        factor = 0.1,\n",
        "        patience = 10,\n",
        "        min_lr = 1e-5\n",
        "    ),\n",
        "]\n",
        "\n",
        "k = 4\n",
        "num_val_samples = len(data_loader[0])//k\n",
        "epochs = 500\n",
        "scores = []\n",
        "all_mae_history = []\n",
        "for i in range(k):\n",
        "  print(\"Running fold number \",i+1)\n",
        "  x_val = data_loader[0][i * num_val_samples: (i+1) * num_val_samples]\n",
        "  y_val = data_loader[1][i * num_val_samples: (i+1) * num_val_samples]\n",
        "  train_data = np.concatenate(\n",
        "        [data_loader[0][:i * num_val_samples],\n",
        "         data_loader[0][(i+1) * num_val_samples:]],\n",
        "        axis = 0)\n",
        "  \n",
        "  train_labels = np.concatenate(\n",
        "        [data_loader[1][:i*num_val_samples],\n",
        "         data_loader[1][(i+1)*num_val_samples:]],\n",
        "        axis=0)\n",
        "\n",
        "  model = crime_model()\n",
        "  model.compile(\n",
        "    loss=\"mse\",\n",
        "    optimizer='rmsprop',\n",
        "\t  metrics=['mae']\n",
        ")\n",
        "  history = model.fit(train_data, train_labels, epochs= epochs , batch_size=32, verbose=0)\n",
        "  test_mse_score, test_mae_score = model.evaluate(x_val,y_val)\n",
        "  print(\"Test MAE scores :\",test_mae_score)\n",
        "  history_dict = history.history\n",
        "  mae_history = history.history['mae']\n",
        "  all_mae_history.append(mae_history)\n",
        "  val_mse_score, val_mae_score = model.evaluate(x_val, y_val, verbose=0)\n",
        "  scores.append(val_mae_score)\n",
        "\n",
        "average_mae_history = [np.mean([a[i] for a in all_mae_history]) for i in range(epochs)]\n",
        "print(\"Average Validation MAE history\",average_mae_history)"
      ]
    },
    {
      "cell_type": "code",
      "execution_count": null,
      "metadata": {
        "colab": {
          "base_uri": "https://localhost:8080/",
          "height": 278
        },
        "id": "wX3f3KahVZkz",
        "outputId": "b05fc528-bf1a-4d3b-a3ec-e6d492a2f600"
      },
      "outputs": [
        {
          "data": {
            "image/png": "[encoded data removed]",
            "text/plain": [
              "<Figure size 432x288 with 1 Axes>"
            ]
          },
          "metadata": {
            "needs_background": "light"
          },
          "output_type": "display_data"
        }
      ],
      "source": [
        "plt.plot(range(1,len(average_mae_history)+1) , average_mae_history)\n",
        "plt.xlabel(\"Epochs\")\n",
        "plt.ylabel(\"Validation MAE\")\n",
        "plt.show()\n"
      ]
    },
    {
      "cell_type": "code",
      "execution_count": null,
      "metadata": {
        "colab": {
          "base_uri": "https://localhost:8080/"
        },
        "id": "psg7H9k6ZNtz",
        "outputId": "87939694-afd3-4996-f839-a4873a833d73"
      },
      "outputs": [
        {
          "name": "stdout",
          "output_type": "stream",
          "text": [
            "Model: \"crime_data_model_new\"\n",
            "_________________________________________________________________\n",
            " Layer (type)                Output Shape              Param #   \n",
            "=================================================================\n",
            " dense_layer1 (Dense)        (None, 64)                7872      \n",
            "                                                                 \n",
            " dense_layer2 (Dense)        (None, 32)                2080      \n",
            "                                                                 \n",
            " dense_layer3 (Dense)        (None, 16)                528       \n",
            "                                                                 \n",
            " dense_layer4 (Dense)        (None, 8)                 136       \n",
            "                                                                 \n",
            " dense_layer5 (Dense)        (None, 4)                 36        \n",
            "                                                                 \n",
            " dense_layer6 (Dense)        (None, 2)                 10        \n",
            "                                                                 \n",
            " dense_layer7 (Dense)        (None, 1)                 3         \n",
            "                                                                 \n",
            "=================================================================\n",
            "Total params: 10,665\n",
            "Trainable params: 10,665\n",
            "Non-trainable params: 0\n",
            "_________________________________________________________________\n"
          ]
        }
      ],
      "source": [
        "def new_crime_model():\n",
        "\n",
        "  model = tf.keras.Sequential(name=\"crime_data_model_new\")\n",
        "  model.add(Dense(64,input_shape=(data_loader[0].shape[1],),activation='relu', name='dense_layer1'))\n",
        "  model.add(Dense(32,activation='relu',name='dense_layer2'))\n",
        "  model.add(Dense(16,activation='relu',name='dense_layer3'))\n",
        "  model.add(Dense(8,activation='relu',name='dense_layer4'))\n",
        "  model.add(Dense(4,activation='relu',name='dense_layer5'))\n",
        "  model.add(Dense(2,activation='relu',name='dense_layer6'))\n",
        "  model.add(Dense(1,activation='sigmoid',name='dense_layer7'))\n",
        "\n",
        "  return model\n",
        "\n",
        "new_model = new_crime_model()\n",
        "\n",
        "\n",
        "new_model.summary()"
      ]
    },
    {
      "cell_type": "code",
      "execution_count": null,
      "metadata": {
        "colab": {
          "base_uri": "https://localhost:8080/"
        },
        "id": "QdAIrGoHX3V_",
        "outputId": "3cd32ae6-fef2-4a83-940d-a5328d35aebb"
      },
      "outputs": [
        {
          "name": "stdout",
          "output_type": "stream",
          "text": [
            "Epoch 1/50\n",
            "47/47 [==============================] - 1s 7ms/step - loss: 0.0361 - mae: 0.1421 - val_loss: 0.0244 - val_mae: 0.1024 - lr: 0.0010\n",
            "Epoch 2/50\n",
            "47/47 [==============================] - 0s 5ms/step - loss: 0.0221 - mae: 0.1056 - val_loss: 0.0176 - val_mae: 0.0926 - lr: 0.0010\n",
            "Epoch 3/50\n",
            "47/47 [==============================] - 0s 5ms/step - loss: 0.0202 - mae: 0.0988 - val_loss: 0.0220 - val_mae: 0.0989 - lr: 0.0010\n",
            "Epoch 4/50\n",
            "47/47 [==============================] - 0s 4ms/step - loss: 0.0204 - mae: 0.0982 - val_loss: 0.0177 - val_mae: 0.0967 - lr: 0.0010\n",
            "Epoch 5/50\n",
            "47/47 [==============================] - 0s 4ms/step - loss: 0.0189 - mae: 0.0955 - val_loss: 0.0172 - val_mae: 0.0936 - lr: 0.0010\n",
            "Epoch 6/50\n",
            "47/47 [==============================] - 0s 4ms/step - loss: 0.0187 - mae: 0.0943 - val_loss: 0.0174 - val_mae: 0.0940 - lr: 0.0010\n",
            "Epoch 7/50\n",
            "47/47 [==============================] - 0s 5ms/step - loss: 0.0190 - mae: 0.0941 - val_loss: 0.0220 - val_mae: 0.1134 - lr: 0.0010\n",
            "Epoch 8/50\n",
            "47/47 [==============================] - 0s 4ms/step - loss: 0.0185 - mae: 0.0941 - val_loss: 0.0198 - val_mae: 0.0947 - lr: 0.0010\n",
            "Epoch 9/50\n",
            "47/47 [==============================] - 0s 5ms/step - loss: 0.0182 - mae: 0.0932 - val_loss: 0.0166 - val_mae: 0.0913 - lr: 0.0010\n",
            "Epoch 10/50\n",
            "47/47 [==============================] - 0s 5ms/step - loss: 0.0181 - mae: 0.0932 - val_loss: 0.0190 - val_mae: 0.0925 - lr: 0.0010\n",
            "Epoch 11/50\n",
            "47/47 [==============================] - 0s 4ms/step - loss: 0.0174 - mae: 0.0914 - val_loss: 0.0166 - val_mae: 0.0908 - lr: 0.0010\n",
            "Epoch 12/50\n",
            "47/47 [==============================] - 0s 5ms/step - loss: 0.0174 - mae: 0.0904 - val_loss: 0.0169 - val_mae: 0.0898 - lr: 0.0010\n",
            "Epoch 13/50\n",
            "47/47 [==============================] - 0s 4ms/step - loss: 0.0175 - mae: 0.0906 - val_loss: 0.0171 - val_mae: 0.0906 - lr: 0.0010\n",
            "Epoch 14/50\n",
            "47/47 [==============================] - 0s 4ms/step - loss: 0.0173 - mae: 0.0911 - val_loss: 0.0172 - val_mae: 0.0895 - lr: 0.0010\n",
            "Epoch 15/50\n",
            "47/47 [==============================] - 0s 4ms/step - loss: 0.0172 - mae: 0.0899 - val_loss: 0.0194 - val_mae: 0.1039 - lr: 0.0010\n",
            "Epoch 16/50\n",
            "47/47 [==============================] - 0s 4ms/step - loss: 0.0169 - mae: 0.0902 - val_loss: 0.0213 - val_mae: 0.0980 - lr: 0.0010\n",
            "Epoch 17/50\n",
            "47/47 [==============================] - 0s 5ms/step - loss: 0.0170 - mae: 0.0899 - val_loss: 0.0167 - val_mae: 0.0894 - lr: 0.0010\n",
            "Epoch 18/50\n",
            "47/47 [==============================] - 0s 4ms/step - loss: 0.0167 - mae: 0.0887 - val_loss: 0.0240 - val_mae: 0.1194 - lr: 0.0010\n",
            "Epoch 19/50\n",
            "47/47 [==============================] - 0s 4ms/step - loss: 0.0165 - mae: 0.0888 - val_loss: 0.0168 - val_mae: 0.0885 - lr: 0.0010\n",
            "Epoch 20/50\n",
            "47/47 [==============================] - 0s 4ms/step - loss: 0.0159 - mae: 0.0870 - val_loss: 0.0215 - val_mae: 0.1103 - lr: 0.0010\n",
            "Epoch 21/50\n",
            "47/47 [==============================] - 0s 4ms/step - loss: 0.0160 - mae: 0.0873 - val_loss: 0.0165 - val_mae: 0.0906 - lr: 0.0010\n",
            "Epoch 22/50\n",
            "47/47 [==============================] - 0s 4ms/step - loss: 0.0161 - mae: 0.0873 - val_loss: 0.0165 - val_mae: 0.0883 - lr: 0.0010\n",
            "Epoch 23/50\n",
            "47/47 [==============================] - 0s 4ms/step - loss: 0.0159 - mae: 0.0865 - val_loss: 0.0199 - val_mae: 0.1033 - lr: 0.0010\n",
            "Epoch 24/50\n",
            "47/47 [==============================] - 0s 5ms/step - loss: 0.0156 - mae: 0.0860 - val_loss: 0.0176 - val_mae: 0.0947 - lr: 0.0010\n",
            "Epoch 25/50\n",
            "47/47 [==============================] - 0s 4ms/step - loss: 0.0154 - mae: 0.0857 - val_loss: 0.0198 - val_mae: 0.1028 - lr: 0.0010\n",
            "Epoch 26/50\n",
            "47/47 [==============================] - 0s 4ms/step - loss: 0.0154 - mae: 0.0844 - val_loss: 0.0170 - val_mae: 0.0893 - lr: 0.0010\n",
            "Epoch 27/50\n",
            "47/47 [==============================] - 0s 4ms/step - loss: 0.0152 - mae: 0.0847 - val_loss: 0.0169 - val_mae: 0.0945 - lr: 0.0010\n",
            "Epoch 28/50\n",
            "47/47 [==============================] - 0s 4ms/step - loss: 0.0150 - mae: 0.0839 - val_loss: 0.0214 - val_mae: 0.1127 - lr: 0.0010\n",
            "Epoch 29/50\n",
            "47/47 [==============================] - 0s 5ms/step - loss: 0.0149 - mae: 0.0834 - val_loss: 0.0175 - val_mae: 0.0908 - lr: 0.0010\n",
            "Epoch 30/50\n",
            "47/47 [==============================] - 0s 5ms/step - loss: 0.0144 - mae: 0.0830 - val_loss: 0.0176 - val_mae: 0.0899 - lr: 0.0010\n",
            "Epoch 31/50\n",
            "47/47 [==============================] - 0s 4ms/step - loss: 0.0147 - mae: 0.0825 - val_loss: 0.0165 - val_mae: 0.0896 - lr: 0.0010\n",
            "Epoch 32/50\n",
            "47/47 [==============================] - 0s 5ms/step - loss: 0.0145 - mae: 0.0821 - val_loss: 0.0172 - val_mae: 0.0900 - lr: 0.0010\n",
            "Epoch 33/50\n",
            "47/47 [==============================] - 0s 4ms/step - loss: 0.0145 - mae: 0.0831 - val_loss: 0.0162 - val_mae: 0.0892 - lr: 0.0010\n",
            "Epoch 34/50\n",
            "47/47 [==============================] - 0s 4ms/step - loss: 0.0142 - mae: 0.0816 - val_loss: 0.0186 - val_mae: 0.1028 - lr: 0.0010\n",
            "Epoch 35/50\n",
            "47/47 [==============================] - 0s 5ms/step - loss: 0.0139 - mae: 0.0813 - val_loss: 0.0178 - val_mae: 0.0968 - lr: 0.0010\n",
            "Epoch 36/50\n",
            "47/47 [==============================] - 0s 4ms/step - loss: 0.0140 - mae: 0.0812 - val_loss: 0.0173 - val_mae: 0.0887 - lr: 0.0010\n",
            "Epoch 37/50\n",
            "47/47 [==============================] - 0s 4ms/step - loss: 0.0143 - mae: 0.0826 - val_loss: 0.0187 - val_mae: 0.0996 - lr: 0.0010\n",
            "Epoch 38/50\n",
            "47/47 [==============================] - 0s 5ms/step - loss: 0.0139 - mae: 0.0803 - val_loss: 0.0161 - val_mae: 0.0887 - lr: 0.0010\n",
            "Epoch 39/50\n",
            "47/47 [==============================] - 0s 5ms/step - loss: 0.0135 - mae: 0.0794 - val_loss: 0.0176 - val_mae: 0.1013 - lr: 0.0010\n",
            "Epoch 40/50\n",
            "47/47 [==============================] - 0s 4ms/step - loss: 0.0130 - mae: 0.0789 - val_loss: 0.0164 - val_mae: 0.0878 - lr: 0.0010\n",
            "Epoch 41/50\n",
            "47/47 [==============================] - 0s 4ms/step - loss: 0.0135 - mae: 0.0804 - val_loss: 0.0173 - val_mae: 0.0931 - lr: 0.0010\n",
            "Epoch 42/50\n",
            "47/47 [==============================] - 0s 4ms/step - loss: 0.0128 - mae: 0.0780 - val_loss: 0.0171 - val_mae: 0.0883 - lr: 0.0010\n",
            "Epoch 43/50\n",
            "47/47 [==============================] - 0s 4ms/step - loss: 0.0129 - mae: 0.0787 - val_loss: 0.0158 - val_mae: 0.0865 - lr: 0.0010\n",
            "Epoch 44/50\n",
            "47/47 [==============================] - 0s 4ms/step - loss: 0.0126 - mae: 0.0781 - val_loss: 0.0163 - val_mae: 0.0873 - lr: 0.0010\n",
            "Epoch 45/50\n",
            "47/47 [==============================] - 0s 4ms/step - loss: 0.0126 - mae: 0.0777 - val_loss: 0.0159 - val_mae: 0.0862 - lr: 0.0010\n",
            "Epoch 46/50\n",
            "47/47 [==============================] - 0s 5ms/step - loss: 0.0127 - mae: 0.0776 - val_loss: 0.0169 - val_mae: 0.0894 - lr: 0.0010\n",
            "Epoch 47/50\n",
            "47/47 [==============================] - 0s 4ms/step - loss: 0.0130 - mae: 0.0778 - val_loss: 0.0185 - val_mae: 0.1042 - lr: 0.0010\n",
            "Epoch 48/50\n",
            "47/47 [==============================] - 0s 4ms/step - loss: 0.0124 - mae: 0.0775 - val_loss: 0.0174 - val_mae: 0.0899 - lr: 0.0010\n",
            "Epoch 49/50\n",
            "47/47 [==============================] - 0s 5ms/step - loss: 0.0126 - mae: 0.0773 - val_loss: 0.0171 - val_mae: 0.0882 - lr: 0.0010\n",
            "Epoch 50/50\n",
            "47/47 [==============================] - 0s 4ms/step - loss: 0.0121 - mae: 0.0760 - val_loss: 0.0171 - val_mae: 0.0872 - lr: 0.0010\n",
            "16/16 [==============================] - 0s 2ms/step - loss: 0.0171 - mae: 0.0872\n"
          ]
        }
      ],
      "source": [
        "new_model = crime_model()\n",
        "my_callbacks = [\n",
        "    tf.keras.callbacks.EarlyStopping(patience=20),\n",
        "    tf.keras.callbacks.ModelCheckpoint(\n",
        "        filepath='/content/crimeData-mse_{loss:.3f}_mae{mae:.3f}.h5',\n",
        "        monitor = 'mae',\n",
        "        save_best_only = True\n",
        "        ),\n",
        "    tf.keras.callbacks.ReduceLROnPlateau(\n",
        "        monitor = 'loss',\n",
        "        factor = 0.1,\n",
        "        patience = 10,\n",
        "        min_lr = 1e-5\n",
        "    ),\n",
        "]\n",
        "\n",
        "rms = tf.keras.optimizers.RMSprop(1e-3)\n",
        "\n",
        "\n",
        "new_model.compile(\n",
        "    loss=\"mse\",\n",
        "    optimizer='rmsprop',\n",
        "\t  metrics=['mae']\n",
        ")\n",
        "\n",
        "history1 = new_model.fit(\n",
        "    data_loader[0], data_loader[1],\n",
        "    epochs = 50,\n",
        "    validation_data=(data_loader[2], data_loader[3]),\n",
        "    callbacks=my_callbacks)\n",
        "\n",
        "test_mse_score,test_mae_score = new_model.evaluate(data_loader[2],data_loader[3])"
      ]
    },
    {
      "cell_type": "code",
      "execution_count": null,
      "metadata": {
        "colab": {
          "base_uri": "https://localhost:8080/",
          "height": 294
        },
        "id": "HAtmR3pZbUIx",
        "outputId": "a375530f-d90f-461a-a80b-1e8435970bbd"
      },
      "outputs": [
        {
          "data": {
            "image/png": "[encoded data removed]",
            "text/plain": [
              "<Figure size 432x288 with 1 Axes>"
            ]
          },
          "metadata": {
            "needs_background": "light"
          },
          "output_type": "display_data"
        }
      ],
      "source": [
        "dict1 = history1.history\n",
        "loss = dict1['loss']\n",
        "val_loss = dict1['val_loss']\n",
        "epochs = range(1,len(loss)+1)\n",
        "\n",
        "\n",
        "plt.plot(epochs,loss, label='Train mse')\n",
        "plt.plot(epochs,val_loss,label='Val mse')\n",
        "plt.xlabel(\"Epochs\")\n",
        "plt.ylabel(\"Loss\")\n",
        "plt.legend()\n",
        "plt.title(\"Loss graph\")\n",
        "plt.show()\n",
        "\n"
      ]
    },
    {
      "cell_type": "code",
      "execution_count": 9,
      "metadata": {
        "colab": {
          "base_uri": "https://localhost:8080/"
        },
        "id": "YNtMezv6ca5Z",
        "outputId": "03c43bea-3335-4cf8-98a6-77fbcea20380"
      },
      "outputs": [
        {
          "name": "stdout",
          "output_type": "stream",
          "text": [
            "mse: 0.02%\n"
          ]
        }
      ],
      "source": [
        "from keras.models import load_model\n",
        "model = load_model('./crimeData-36-mse_0.014_mae0.080.h5')\n",
        "\n",
        "model.compile(loss='mse', optimizer='rmsprop', metrics=['mse'])\n",
        "score = model.evaluate(data_loader[2], data_loader[3], verbose=0)\n",
        "print(\"%s: %.2f%%\" % (model.metrics_names[1], score[1]))"
      ]
    }
  ],
  "metadata": {
    "accelerator": "GPU",
    "colab": {
      "provenance": []
    },
    "gpuClass": "standard",
    "kernelspec": {
      "display_name": "Python 3",
      "name": "python3"
    },
    "language_info": {
      "name": "python"
    }
  },
  "nbformat": 4,
  "nbformat_minor": 0
}
