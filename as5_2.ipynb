{
  "cells": [
    {
      "cell_type": "code",
      "execution_count": 1,
      "metadata": {
        "id": "0owtAzeLbqDc"
      },
      "outputs": [],
      "source": [
        "import os\n",
        "import numpy as np\n",
        "import tensorflow as tf\n",
        "import keras\n",
        "import matplotlib.pyplot as plt\n",
        "from keras.datasets import reuters"
      ]
    },
    {
      "cell_type": "code",
      "execution_count": 2,
      "metadata": {
        "colab": {
          "base_uri": "https://localhost:8080/"
        },
        "id": "DpdS-5eobw4a",
        "outputId": "ebe4fcfc-eb39-465d-9df4-a0e89aa0d8c2"
      },
      "outputs": [
        {
          "name": "stdout",
          "output_type": "stream",
          "text": [
            "Mounted at /content/drive/\n"
          ]
        }
      ],
      "source": [
        "from google.colab import drive\n",
        "drive.mount('/content/drive/', force_remount=True)"
      ]
    },
    {
      "cell_type": "code",
      "execution_count": 3,
      "metadata": {
        "colab": {
          "base_uri": "https://localhost:8080/"
        },
        "id": "qy4AADT2cdfa",
        "outputId": "6408ed2c-1fef-4a0d-8cdc-474f2c23e448"
      },
      "outputs": [
        {
          "name": "stdout",
          "output_type": "stream",
          "text": [
            "Downloading data from https://storage.googleapis.com/tensorflow/tf-keras-datasets/reuters.npz\n",
            "2110848/2110848 [==============================] - 0s 0us/step\n"
          ]
        }
      ],
      "source": [
        "(x_train, y_train), (x_test, y_test) = reuters.load_data(num_words=100000)"
      ]
    },
    {
      "cell_type": "code",
      "execution_count": 4,
      "metadata": {
        "colab": {
          "base_uri": "https://localhost:8080/"
        },
        "id": "7GMWKgqPdJZE",
        "outputId": "d1527bce-46d3-41ff-cb4e-8965fd205627"
      },
      "outputs": [
        {
          "name": "stdout",
          "output_type": "stream",
          "text": [
            "Number of word vectors: 400000\n"
          ]
        }
      ],
      "source": [
        "glove_path = '/content/drive/MyDrive/'                                            \n",
        "glove_file = '/content/drive/MyDrive/glove.6B.100d.txt'\n",
        " \n",
        "embedding_index = {}\n",
        "with open(glove_file) as f:\n",
        "    for line in f:\n",
        "        word, coefs = line.split(maxsplit=1)\n",
        "        coefs = np.fromstring(coefs, \"f\", sep=\" \")\n",
        "        embedding_index[word] = coefs\n",
        "\n",
        "print(\"Number of word vectors:\", len(embedding_index))"
      ]
    },
    {
      "cell_type": "code",
      "execution_count": 5,
      "metadata": {
        "colab": {
          "base_uri": "https://localhost:8080/"
        },
        "id": "2IukTnqTc1pS",
        "outputId": "10a6d7a2-ce98-417f-c86e-11b076caa827"
      },
      "outputs": [
        {
          "name": "stdout",
          "output_type": "stream",
          "text": [
            "Downloading data from https://storage.googleapis.com/tensorflow/tf-keras-datasets/reuters_word_index.json\n",
            "550378/550378 [==============================] - 0s 0us/step\n",
            "(100000, 100)\n",
            "Number of matches: 24975\n",
            "Number of misses: 6004\n"
          ]
        }
      ],
      "source": [
        "word_index = reuters.get_word_index()\n",
        "embedding_dim = 100\n",
        "match = 0\n",
        "misses = 0\n",
        "\n",
        "embedding_matrix = np.zeros((100000, embedding_dim))\n",
        "for word, i in word_index.items():\n",
        "    embedding_vector = embedding_index.get(word)\n",
        "    if embedding_vector is not None:\n",
        "        embedding_matrix[i] = embedding_vector\n",
        "        match += 1\n",
        "    else:\n",
        "        misses += 1\n",
        "        \n",
        "print(embedding_matrix.shape)\n",
        "print(\"Number of matches:\", match)\n",
        "print(\"Number of misses:\", misses)"
      ]
    },
    {
      "cell_type": "code",
      "execution_count": 6,
      "metadata": {
        "id": "zLLbLQc2kfJ5"
      },
      "outputs": [],
      "source": [
        "x_train = tf.keras.preprocessing.sequence.pad_sequences(x_train,maxlen=128)\n",
        "x_test = tf.keras.preprocessing.sequence.pad_sequences(x_test,maxlen=128)\n",
        "y_train = keras.utils.to_categorical(y_train)\n",
        "y_test = keras.utils.to_categorical(y_test)"
      ]
    },
    {
      "cell_type": "code",
      "execution_count": 7,
      "metadata": {
        "colab": {
          "base_uri": "https://localhost:8080/"
        },
        "id": "JYT9kaK2lqIt",
        "outputId": "438d8d1b-4fba-42f1-a19e-e1ccd665b470"
      },
      "outputs": [
        {
          "name": "stdout",
          "output_type": "stream",
          "text": [
            "Model: \"model\"\n",
            "_________________________________________________________________\n",
            " Layer (type)                Output Shape              Param #   \n",
            "=================================================================\n",
            " input_1 (InputLayer)        [(None, 128)]             0         \n",
            "                                                                 \n",
            " embedding (Embedding)       (None, 128, 100)          10000000  \n",
            "                                                                 \n",
            " flatten (Flatten)           (None, 12800)             0         \n",
            "                                                                 \n",
            " dense (Dense)               (None, 128)               1638528   \n",
            "                                                                 \n",
            " dropout (Dropout)           (None, 128)               0         \n",
            "                                                                 \n",
            " dense_1 (Dense)             (None, 46)                5934      \n",
            "                                                                 \n",
            "=================================================================\n",
            "Total params: 11,644,462\n",
            "Trainable params: 1,644,462\n",
            "Non-trainable params: 10,000,000\n",
            "_________________________________________________________________\n"
          ]
        }
      ],
      "source": [
        "inputShape = tf.keras.layers.Input(shape=(128))\n",
        "\n",
        "embedding_layer = tf.keras.layers.Embedding(\n",
        "    100000,\n",
        "    embedding_dim,\n",
        "    embeddings_initializer=keras.initializers.Constant(embedding_matrix),\n",
        "    trainable=False)\n",
        "\n",
        "embeddings = embedding_layer(inputShape)\n",
        "x = tf.keras.layers.Flatten()(embeddings)\n",
        "x = tf.keras.layers.Dense(128,activation='sigmoid')(x)\n",
        "x = tf.keras.layers.Dropout(0.2)(x)\n",
        "x = tf.keras.layers.Dense(46,activation='softmax')(x)\n",
        "\n",
        "model1 = tf.keras.Model(inputs = inputShape, outputs = x)\n",
        "\n",
        "model1.summary()\n"
      ]
    },
    {
      "cell_type": "code",
      "execution_count": 8,
      "metadata": {
        "colab": {
          "base_uri": "https://localhost:8080/"
        },
        "id": "7NRXPLgXOEy5",
        "outputId": "aec4005c-a249-4a75-ce84-c15ff3796a1b"
      },
      "outputs": [
        {
          "name": "stdout",
          "output_type": "stream",
          "text": [
            "Epoch 1/10\n",
            "71/71 [==============================] - 8s 75ms/step - loss: 2.2686 - accuracy: 0.4132 - val_loss: 2.0366 - val_accuracy: 0.4657 - lr: 0.0010\n",
            "Epoch 2/10\n",
            "71/71 [==============================] - 4s 58ms/step - loss: 1.9023 - accuracy: 0.5039 - val_loss: 1.9450 - val_accuracy: 0.4969 - lr: 0.0010\n",
            "Epoch 3/10\n",
            "71/71 [==============================] - 4s 62ms/step - loss: 1.6154 - accuracy: 0.5868 - val_loss: 1.8983 - val_accuracy: 0.5067 - lr: 0.0010\n",
            "Epoch 4/10\n",
            "71/71 [==============================] - 5s 75ms/step - loss: 1.3221 - accuracy: 0.6690 - val_loss: 1.8846 - val_accuracy: 0.5151 - lr: 0.0010\n",
            "Epoch 5/10\n",
            "71/71 [==============================] - 4s 59ms/step - loss: 1.0532 - accuracy: 0.7484 - val_loss: 1.8827 - val_accuracy: 0.5169 - lr: 0.0010\n",
            "Epoch 6/10\n",
            "71/71 [==============================] - 0s 4ms/step - loss: 0.8155 - accuracy: 0.8152 - val_loss: 1.9126 - val_accuracy: 0.5093 - lr: 0.0010\n",
            "Epoch 7/10\n",
            "71/71 [==============================] - 4s 59ms/step - loss: 0.6163 - accuracy: 0.8692 - val_loss: 1.9086 - val_accuracy: 0.5218 - lr: 0.0010\n",
            "Epoch 8/10\n",
            "71/71 [==============================] - 4s 59ms/step - loss: 0.4760 - accuracy: 0.9030 - val_loss: 1.9526 - val_accuracy: 0.5223 - lr: 0.0010\n",
            "Epoch 9/10\n",
            "71/71 [==============================] - 4s 59ms/step - loss: 0.3745 - accuracy: 0.9281 - val_loss: 1.9781 - val_accuracy: 0.5232 - lr: 0.0010\n",
            "Epoch 10/10\n",
            "71/71 [==============================] - 0s 4ms/step - loss: 0.2914 - accuracy: 0.9468 - val_loss: 2.0361 - val_accuracy: 0.5218 - lr: 0.0010\n"
          ]
        }
      ],
      "source": [
        "my_callbacks = [\n",
        "    # tf.keras.callbacks.EarlyStopping(patience=15),\n",
        "    tf.keras.callbacks.ModelCheckpoint(\n",
        "        filepath='/content/reuters-loss_{loss:.3f}_val_acc{val_accuracy:.3f}.h5',\n",
        "        monitor = 'val_accuracy',\n",
        "        save_best_only = True\n",
        "        ),\n",
        "    tf.keras.callbacks.ReduceLROnPlateau(\n",
        "        monitor = 'loss',\n",
        "        factor = 0.1,\n",
        "        patience = 3,\n",
        "        min_lr = 1e-5\n",
        "    ),\n",
        "]\n",
        "\n",
        "adam = tf.keras.optimizers.Adam(1e-3)\n",
        "\n",
        "\n",
        "model1.compile(\n",
        "    loss = 'categorical_crossentropy' ,\n",
        "    optimizer=adam,\n",
        "\tmetrics=[\"accuracy\"]\n",
        ")\n",
        "\n",
        "history1 = model1.fit(\n",
        "    x_train,y_train,\n",
        "    epochs = 10,\n",
        "    batch_size = 128,\n",
        "    validation_data=(x_test,y_test),\n",
        "    callbacks=my_callbacks)"
      ]
    },
    {
      "cell_type": "code",
      "execution_count": 9,
      "metadata": {
        "colab": {
          "base_uri": "https://localhost:8080/",
          "height": 571
        },
        "id": "VKUMR5nulmBJ",
        "outputId": "00c1c3f0-3c5c-4142-fbdb-5149c2f6a2e2"
      },
      "outputs": [
        {
          "data": {
            "image/png": "[encoded data removed]",
            "text/plain": [
              "<Figure size 432x288 with 1 Axes>"
            ]
          },
          "metadata": {
            "needs_background": "light"
          },
          "output_type": "display_data"
        },
        {
          "data": {
            "image/png": "[encoded data removed]",
            "text/plain": [
              "<Figure size 432x288 with 1 Axes>"
            ]
          },
          "metadata": {
            "needs_background": "light"
          },
          "output_type": "display_data"
        }
      ],
      "source": [
        "# Plot training process\n",
        "dict1 = history1.history\n",
        "loss = dict1['loss']\n",
        "val_loss = dict1['val_loss']\n",
        "accuracy = dict1['accuracy']\n",
        "val_accuracy = dict1['val_accuracy']\n",
        "epochs = range(1,len(loss)+1)\n",
        "\n",
        "\n",
        "plt.plot(epochs,loss, label='Train loss')\n",
        "plt.plot(epochs,val_loss,label='Val loss')\n",
        "plt.xlabel(\"Epochs\")\n",
        "plt.ylabel(\"Loss\")\n",
        "plt.legend()\n",
        "plt.title(\"Loss graph\")\n",
        "plt.show()\n",
        "\n",
        "#print(\"\\n\")\n",
        "\n",
        "plt.clf()\n",
        "plt.plot(epochs,accuracy, label='Train Accuracy')\n",
        "plt.plot(epochs,val_accuracy,label='Val Accuracy')\n",
        "plt.xlabel(\"Epochs\")\n",
        "plt.ylabel(\"Accuracy\")\n",
        "plt.legend()\n",
        "plt.title(\"Accuracy graph\")\n",
        "plt.show()"
      ]
    },
    {
      "cell_type": "code",
      "execution_count": 30,
      "metadata": {
        "colab": {
          "base_uri": "https://localhost:8080/"
        },
        "id": "27KmDd5KOIFV",
        "outputId": "b61426c2-018f-43c9-b300-1feb9cbda0c5"
      },
      "outputs": [
        {
          "name": "stdout",
          "output_type": "stream",
          "text": [
            "Model: \"model_5\"\n",
            "_________________________________________________________________\n",
            " Layer (type)                Output Shape              Param #   \n",
            "=================================================================\n",
            " input_6 (InputLayer)        [(None, 128)]             0         \n",
            "                                                                 \n",
            " embedding_5 (Embedding)     (None, 128, 100)          10000000  \n",
            "                                                                 \n",
            " lstm_5 (LSTM)               (None, 64)                42240     \n",
            "                                                                 \n",
            " dense_10 (Dense)            (None, 64)                4160      \n",
            "                                                                 \n",
            " dropout_5 (Dropout)         (None, 64)                0         \n",
            "                                                                 \n",
            " dense_11 (Dense)            (None, 46)                2990      \n",
            "                                                                 \n",
            "=================================================================\n",
            "Total params: 10,049,390\n",
            "Trainable params: 49,390\n",
            "Non-trainable params: 10,000,000\n",
            "_________________________________________________________________\n"
          ]
        }
      ],
      "source": [
        "inputShape = tf.keras.layers.Input(shape=(128))\n",
        "\n",
        "embedding_layer = tf.keras.layers.Embedding(\n",
        "    100000,\n",
        "    embedding_dim,\n",
        "    embeddings_initializer=keras.initializers.Constant(embedding_matrix),\n",
        "    trainable=False)\n",
        "\n",
        "embeddings = embedding_layer(inputShape)\n",
        "x = tf.keras.layers.LSTM(64,dropout=0.1)(embeddings)\n",
        "\n",
        "x = tf.keras.layers.Dense(64,activation='relu')(x)\n",
        "x = tf.keras.layers.Dropout(0.2)(x)\n",
        "x = tf.keras.layers.Dense(46,activation='softmax')(x)\n",
        "\n",
        "model2 = tf.keras.Model(inputs = inputShape, outputs = x)\n",
        "\n",
        "model2.summary()\n"
      ]
    },
    {
      "cell_type": "code",
      "execution_count": 33,
      "metadata": {
        "colab": {
          "base_uri": "https://localhost:8080/"
        },
        "id": "_RhFXA_LPRhg",
        "outputId": "932d9dbb-3bf5-4784-a870-318d3a108887"
      },
      "outputs": [
        {
          "name": "stdout",
          "output_type": "stream",
          "text": [
            "Epoch 1/40\n",
            "71/71 [==============================] - 7s 80ms/step - loss: 1.7446 - accuracy: 0.5450 - val_loss: 1.7293 - val_accuracy: 0.5539 - lr: 0.0010\n",
            "Epoch 2/40\n",
            "71/71 [==============================] - 1s 13ms/step - loss: 1.7165 - accuracy: 0.5485 - val_loss: 1.7187 - val_accuracy: 0.5516 - lr: 0.0010\n",
            "Epoch 3/40\n",
            "71/71 [==============================] - 4s 63ms/step - loss: 1.6797 - accuracy: 0.5589 - val_loss: 1.6860 - val_accuracy: 0.5641 - lr: 0.0010\n",
            "Epoch 4/40\n",
            "71/71 [==============================] - 5s 69ms/step - loss: 1.6466 - accuracy: 0.5681 - val_loss: 1.6832 - val_accuracy: 0.5717 - lr: 0.0010\n",
            "Epoch 5/40\n",
            "71/71 [==============================] - 1s 13ms/step - loss: 1.6204 - accuracy: 0.5773 - val_loss: 1.6686 - val_accuracy: 0.5686 - lr: 0.0010\n",
            "Epoch 6/40\n",
            "71/71 [==============================] - 5s 65ms/step - loss: 1.5923 - accuracy: 0.5832 - val_loss: 1.6935 - val_accuracy: 0.5744 - lr: 0.0010\n",
            "Epoch 7/40\n",
            "71/71 [==============================] - 5s 69ms/step - loss: 1.5600 - accuracy: 0.5914 - val_loss: 1.6054 - val_accuracy: 0.5931 - lr: 0.0010\n",
            "Epoch 8/40\n",
            "71/71 [==============================] - 5s 65ms/step - loss: 1.5288 - accuracy: 0.5976 - val_loss: 1.5868 - val_accuracy: 0.5935 - lr: 0.0010\n",
            "Epoch 9/40\n",
            "71/71 [==============================] - 5s 69ms/step - loss: 1.4988 - accuracy: 0.6079 - val_loss: 1.5599 - val_accuracy: 0.5957 - lr: 0.0010\n",
            "Epoch 10/40\n",
            "71/71 [==============================] - 5s 70ms/step - loss: 1.4543 - accuracy: 0.6190 - val_loss: 1.5968 - val_accuracy: 0.5975 - lr: 0.0010\n",
            "Epoch 11/40\n",
            "71/71 [==============================] - 1s 13ms/step - loss: 1.4397 - accuracy: 0.6234 - val_loss: 1.6377 - val_accuracy: 0.5703 - lr: 0.0010\n",
            "Epoch 12/40\n",
            "71/71 [==============================] - 4s 64ms/step - loss: 1.4236 - accuracy: 0.6230 - val_loss: 1.5730 - val_accuracy: 0.5980 - lr: 0.0010\n",
            "Epoch 13/40\n",
            "71/71 [==============================] - 1s 13ms/step - loss: 1.3925 - accuracy: 0.6293 - val_loss: 1.5537 - val_accuracy: 0.5926 - lr: 0.0010\n",
            "Epoch 14/40\n",
            "71/71 [==============================] - 5s 69ms/step - loss: 1.3938 - accuracy: 0.6298 - val_loss: 1.5497 - val_accuracy: 0.6153 - lr: 0.0010\n",
            "Epoch 15/40\n",
            "71/71 [==============================] - 1s 13ms/step - loss: 1.3645 - accuracy: 0.6388 - val_loss: 1.4994 - val_accuracy: 0.6131 - lr: 0.0010\n",
            "Epoch 16/40\n",
            "71/71 [==============================] - 5s 68ms/step - loss: 1.3430 - accuracy: 0.6427 - val_loss: 1.5009 - val_accuracy: 0.6171 - lr: 0.0010\n",
            "Epoch 17/40\n",
            "71/71 [==============================] - 5s 69ms/step - loss: 1.3114 - accuracy: 0.6506 - val_loss: 1.4819 - val_accuracy: 0.6229 - lr: 0.0010\n",
            "Epoch 18/40\n",
            "71/71 [==============================] - 1s 14ms/step - loss: 1.2974 - accuracy: 0.6546 - val_loss: 1.4839 - val_accuracy: 0.6224 - lr: 0.0010\n",
            "Epoch 19/40\n",
            "71/71 [==============================] - 5s 69ms/step - loss: 1.2872 - accuracy: 0.6613 - val_loss: 1.4561 - val_accuracy: 0.6305 - lr: 0.0010\n",
            "Epoch 20/40\n",
            "71/71 [==============================] - 5s 65ms/step - loss: 1.2562 - accuracy: 0.6653 - val_loss: 1.4577 - val_accuracy: 0.6309 - lr: 0.0010\n",
            "Epoch 21/40\n",
            "71/71 [==============================] - 1s 13ms/step - loss: 1.2390 - accuracy: 0.6706 - val_loss: 1.4784 - val_accuracy: 0.6247 - lr: 0.0010\n",
            "Epoch 22/40\n",
            "71/71 [==============================] - 5s 69ms/step - loss: 1.2385 - accuracy: 0.6690 - val_loss: 1.4458 - val_accuracy: 0.6402 - lr: 0.0010\n",
            "Epoch 23/40\n",
            "71/71 [==============================] - 1s 13ms/step - loss: 1.1930 - accuracy: 0.6802 - val_loss: 1.4604 - val_accuracy: 0.6300 - lr: 0.0010\n",
            "Epoch 24/40\n",
            "71/71 [==============================] - 1s 12ms/step - loss: 1.1972 - accuracy: 0.6775 - val_loss: 1.5179 - val_accuracy: 0.6313 - lr: 0.0010\n",
            "Epoch 25/40\n",
            "71/71 [==============================] - 1s 12ms/step - loss: 1.1766 - accuracy: 0.6866 - val_loss: 1.4868 - val_accuracy: 0.6336 - lr: 0.0010\n",
            "Epoch 26/40\n",
            "71/71 [==============================] - 5s 65ms/step - loss: 1.1648 - accuracy: 0.6898 - val_loss: 1.4702 - val_accuracy: 0.6411 - lr: 0.0010\n",
            "Epoch 27/40\n",
            "71/71 [==============================] - 1s 13ms/step - loss: 1.1543 - accuracy: 0.6909 - val_loss: 1.4522 - val_accuracy: 0.6394 - lr: 0.0010\n",
            "Epoch 28/40\n",
            "71/71 [==============================] - 5s 71ms/step - loss: 1.1362 - accuracy: 0.6969 - val_loss: 1.4335 - val_accuracy: 0.6478 - lr: 0.0010\n",
            "Epoch 29/40\n",
            "71/71 [==============================] - 1s 13ms/step - loss: 1.1247 - accuracy: 0.7003 - val_loss: 1.4152 - val_accuracy: 0.6451 - lr: 0.0010\n",
            "Epoch 30/40\n",
            "71/71 [==============================] - 5s 65ms/step - loss: 1.0928 - accuracy: 0.7081 - val_loss: 1.4173 - val_accuracy: 0.6545 - lr: 0.0010\n",
            "Epoch 31/40\n",
            "71/71 [==============================] - 1s 13ms/step - loss: 1.0770 - accuracy: 0.7110 - val_loss: 1.4697 - val_accuracy: 0.6460 - lr: 0.0010\n",
            "Epoch 32/40\n",
            "71/71 [==============================] - 1s 13ms/step - loss: 1.0664 - accuracy: 0.7138 - val_loss: 1.4389 - val_accuracy: 0.6438 - lr: 0.0010\n",
            "Epoch 33/40\n",
            "71/71 [==============================] - 1s 12ms/step - loss: 1.0596 - accuracy: 0.7173 - val_loss: 1.4219 - val_accuracy: 0.6496 - lr: 0.0010\n",
            "Epoch 34/40\n",
            "71/71 [==============================] - 1s 13ms/step - loss: 1.0436 - accuracy: 0.7165 - val_loss: 1.4751 - val_accuracy: 0.6514 - lr: 0.0010\n",
            "Epoch 35/40\n",
            "71/71 [==============================] - 1s 12ms/step - loss: 1.0329 - accuracy: 0.7232 - val_loss: 1.4123 - val_accuracy: 0.6527 - lr: 0.0010\n",
            "Epoch 36/40\n",
            "71/71 [==============================] - 1s 12ms/step - loss: 1.0404 - accuracy: 0.7242 - val_loss: 1.4636 - val_accuracy: 0.6536 - lr: 0.0010\n",
            "Epoch 37/40\n",
            "71/71 [==============================] - 5s 68ms/step - loss: 1.0049 - accuracy: 0.7321 - val_loss: 1.4267 - val_accuracy: 0.6549 - lr: 0.0010\n",
            "Epoch 38/40\n",
            "71/71 [==============================] - 1s 14ms/step - loss: 0.9904 - accuracy: 0.7342 - val_loss: 1.4240 - val_accuracy: 0.6523 - lr: 0.0010\n",
            "Epoch 39/40\n",
            "71/71 [==============================] - 1s 12ms/step - loss: 0.9780 - accuracy: 0.7371 - val_loss: 1.4643 - val_accuracy: 0.6549 - lr: 0.0010\n",
            "Epoch 40/40\n",
            "71/71 [==============================] - 5s 65ms/step - loss: 0.9458 - accuracy: 0.7440 - val_loss: 1.4421 - val_accuracy: 0.6612 - lr: 0.0010\n"
          ]
        }
      ],
      "source": [
        "my_callbacks = [\n",
        "    # tf.keras.callbacks.EarlyStopping(patience=15),\n",
        "    tf.keras.callbacks.ModelCheckpoint(\n",
        "        filepath='/content/reuters-loss_{loss:.3f}_val_acc{val_accuracy:.3f}.h5',\n",
        "        monitor = 'val_accuracy',\n",
        "        save_best_only = True\n",
        "        ),\n",
        "    tf.keras.callbacks.ReduceLROnPlateau(\n",
        "        monitor = 'loss',\n",
        "        factor = 0.1,\n",
        "        patience = 3,\n",
        "        min_lr = 1e-5\n",
        "    ),\n",
        "]\n",
        "\n",
        "adam = tf.keras.optimizers.Adam(1e-3)\n",
        "\n",
        "\n",
        "model2.compile(\n",
        "    loss = 'categorical_crossentropy' ,\n",
        "    optimizer=adam,\n",
        "\tmetrics=[\"accuracy\"]\n",
        ")\n",
        "\n",
        "history2 = model2.fit(\n",
        "    x_train,y_train,\n",
        "    epochs = 40,\n",
        "    batch_size = 128,\n",
        "    validation_data=(x_test,y_test),\n",
        "    callbacks=my_callbacks)"
      ]
    },
    {
      "cell_type": "code",
      "execution_count": 34,
      "metadata": {
        "colab": {
          "base_uri": "https://localhost:8080/",
          "height": 571
        },
        "id": "F9GYGNI1atM6",
        "outputId": "717d9f43-6aa1-4d51-b659-012503624687"
      },
      "outputs": [
        {
          "data": {
            "image/png": "[encoded data removed]",
            "text/plain": [
              "<Figure size 432x288 with 1 Axes>"
            ]
          },
          "metadata": {
            "needs_background": "light"
          },
          "output_type": "display_data"
        },
        {
          "data": {
            "image/png": "[encoded data removed]",
            "text/plain": [
              "<Figure size 432x288 with 1 Axes>"
            ]
          },
          "metadata": {
            "needs_background": "light"
          },
          "output_type": "display_data"
        }
      ],
      "source": [
        "# Plot training process\n",
        "dict1 = history2.history\n",
        "loss = dict1['loss']\n",
        "val_loss = dict1['val_loss']\n",
        "accuracy = dict1['accuracy']\n",
        "val_accuracy = dict1['val_accuracy']\n",
        "epochs = range(1,len(loss)+1)\n",
        "\n",
        "\n",
        "plt.plot(epochs,loss, label='Train loss')\n",
        "plt.plot(epochs,val_loss,label='Val loss')\n",
        "plt.xlabel(\"Epochs\")\n",
        "plt.ylabel(\"Loss\")\n",
        "plt.legend()\n",
        "plt.title(\"Loss graph\")\n",
        "plt.show()\n",
        "\n",
        "#print(\"\\n\")\n",
        "\n",
        "plt.clf()\n",
        "plt.plot(epochs,accuracy, label='Train Accuracy')\n",
        "plt.plot(epochs,val_accuracy,label='Val Accuracy')\n",
        "plt.xlabel(\"Epochs\")\n",
        "plt.ylabel(\"Accuracy\")\n",
        "plt.legend()\n",
        "plt.title(\"Accuracy graph\")\n",
        "plt.show()"
      ]
    },
    {
      "cell_type": "code",
      "execution_count": 14,
      "metadata": {
        "colab": {
          "base_uri": "https://localhost:8080/"
        },
        "id": "y7Bc4b7_Z3q7",
        "outputId": "4f305834-0fa5-41e7-c6a1-f84cc69024dc"
      },
      "outputs": [
        {
          "name": "stdout",
          "output_type": "stream",
          "text": [
            "Model: \"model_4\"\n",
            "_________________________________________________________________\n",
            " Layer (type)                Output Shape              Param #   \n",
            "=================================================================\n",
            " input_5 (InputLayer)        [(None, 128)]             0         \n",
            "                                                                 \n",
            " embedding_4 (Embedding)     (None, 128, 100)          10000000  \n",
            "                                                                 \n",
            " lstm_3 (LSTM)               (None, 128, 128)          117248    \n",
            "                                                                 \n",
            " lstm_4 (LSTM)               (None, 128)               131584    \n",
            "                                                                 \n",
            " dense_8 (Dense)             (None, 64)                8256      \n",
            "                                                                 \n",
            " dropout_4 (Dropout)         (None, 64)                0         \n",
            "                                                                 \n",
            " dense_9 (Dense)             (None, 46)                2990      \n",
            "                                                                 \n",
            "=================================================================\n",
            "Total params: 10,260,078\n",
            "Trainable params: 260,078\n",
            "Non-trainable params: 10,000,000\n",
            "_________________________________________________________________\n"
          ]
        }
      ],
      "source": [
        "inputShape = tf.keras.layers.Input(shape=(128))\n",
        "\n",
        "embedding_layer = tf.keras.layers.Embedding(\n",
        "    100000,\n",
        "    embedding_dim,\n",
        "    embeddings_initializer=keras.initializers.Constant(embedding_matrix),\n",
        "    trainable=False)\n",
        "\n",
        "embeddings = embedding_layer(inputShape)\n",
        "x = tf.keras.layers.LSTM(128,return_sequences=True,dropout=0.1)(embeddings)\n",
        "x = tf.keras.layers.LSTM(128,dropout=0.1)(x)\n",
        "x = tf.keras.layers.Dense(64,activation='relu')(x)\n",
        "x = tf.keras.layers.Dropout(0.2)(x)\n",
        "x = tf.keras.layers.Dense(46,activation='softmax')(x)\n",
        "\n",
        "model2 = tf.keras.Model(inputs = inputShape, outputs = x)\n",
        "\n",
        "model2.summary()"
      ]
    },
    {
      "cell_type": "code",
      "execution_count": 27,
      "metadata": {
        "colab": {
          "base_uri": "https://localhost:8080/"
        },
        "id": "x4pHVCxeYT5v",
        "outputId": "9d053784-a658-44ae-9ad4-ee7e5cdbd717"
      },
      "outputs": [
        {
          "name": "stdout",
          "output_type": "stream",
          "text": [
            "Epoch 1/30\n",
            "71/71 [==============================] - 11s 122ms/step - loss: 1.0910 - accuracy: 0.7150 - val_loss: 1.4525 - val_accuracy: 0.6536 - lr: 0.0010\n",
            "Epoch 2/30\n",
            "71/71 [==============================] - 5s 78ms/step - loss: 1.0473 - accuracy: 0.7266 - val_loss: 1.4806 - val_accuracy: 0.6567 - lr: 0.0010\n",
            "Epoch 3/30\n",
            "71/71 [==============================] - 2s 24ms/step - loss: 1.0054 - accuracy: 0.7337 - val_loss: 1.4617 - val_accuracy: 0.6514 - lr: 0.0010\n",
            "Epoch 4/30\n",
            "71/71 [==============================] - 2s 23ms/step - loss: 0.9904 - accuracy: 0.7394 - val_loss: 1.5528 - val_accuracy: 0.6505 - lr: 0.0010\n",
            "Epoch 5/30\n",
            "71/71 [==============================] - 2s 23ms/step - loss: 1.0009 - accuracy: 0.7338 - val_loss: 1.4944 - val_accuracy: 0.6527 - lr: 0.0010\n",
            "Epoch 6/30\n",
            "71/71 [==============================] - 2s 23ms/step - loss: 0.9454 - accuracy: 0.7460 - val_loss: 1.4519 - val_accuracy: 0.6483 - lr: 0.0010\n",
            "Epoch 7/30\n",
            "71/71 [==============================] - 6s 81ms/step - loss: 0.9157 - accuracy: 0.7571 - val_loss: 1.5388 - val_accuracy: 0.6598 - lr: 0.0010\n",
            "Epoch 8/30\n",
            "71/71 [==============================] - 2s 25ms/step - loss: 0.8889 - accuracy: 0.7620 - val_loss: 1.4649 - val_accuracy: 0.6585 - lr: 0.0010\n",
            "Epoch 9/30\n",
            "71/71 [==============================] - 2s 23ms/step - loss: 0.8704 - accuracy: 0.7641 - val_loss: 1.4369 - val_accuracy: 0.6541 - lr: 0.0010\n",
            "Epoch 10/30\n",
            "71/71 [==============================] - 2s 23ms/step - loss: 0.8480 - accuracy: 0.7718 - val_loss: 1.5174 - val_accuracy: 0.6589 - lr: 0.0010\n",
            "Epoch 11/30\n",
            "71/71 [==============================] - 2s 23ms/step - loss: 0.8140 - accuracy: 0.7791 - val_loss: 1.5602 - val_accuracy: 0.6589 - lr: 0.0010\n",
            "Epoch 12/30\n",
            "71/71 [==============================] - 2s 23ms/step - loss: 0.7960 - accuracy: 0.7839 - val_loss: 1.5279 - val_accuracy: 0.6505 - lr: 0.0010\n",
            "Epoch 13/30\n",
            "71/71 [==============================] - 2s 23ms/step - loss: 0.7555 - accuracy: 0.7930 - val_loss: 1.5390 - val_accuracy: 0.6496 - lr: 0.0010\n",
            "Epoch 14/30\n",
            "71/71 [==============================] - 2s 23ms/step - loss: 0.7492 - accuracy: 0.7936 - val_loss: 1.5093 - val_accuracy: 0.6527 - lr: 0.0010\n",
            "Epoch 15/30\n",
            "71/71 [==============================] - 5s 75ms/step - loss: 0.7398 - accuracy: 0.7975 - val_loss: 1.5430 - val_accuracy: 0.6603 - lr: 0.0010\n",
            "Epoch 16/30\n",
            "71/71 [==============================] - 2s 24ms/step - loss: 0.7291 - accuracy: 0.7987 - val_loss: 1.5220 - val_accuracy: 0.6514 - lr: 0.0010\n",
            "Epoch 17/30\n",
            "71/71 [==============================] - 2s 23ms/step - loss: 0.6942 - accuracy: 0.8096 - val_loss: 1.5815 - val_accuracy: 0.6549 - lr: 0.0010\n",
            "Epoch 18/30\n",
            "71/71 [==============================] - 2s 23ms/step - loss: 0.6807 - accuracy: 0.8117 - val_loss: 1.5837 - val_accuracy: 0.6598 - lr: 0.0010\n",
            "Epoch 19/30\n",
            "71/71 [==============================] - 2s 24ms/step - loss: 0.6411 - accuracy: 0.8186 - val_loss: 1.5804 - val_accuracy: 0.6496 - lr: 0.0010\n",
            "Epoch 20/30\n",
            "71/71 [==============================] - 7s 100ms/step - loss: 0.6153 - accuracy: 0.8302 - val_loss: 1.6399 - val_accuracy: 0.6607 - lr: 0.0010\n",
            "Epoch 21/30\n",
            "71/71 [==============================] - 2s 24ms/step - loss: 0.5924 - accuracy: 0.8334 - val_loss: 1.6845 - val_accuracy: 0.6438 - lr: 0.0010\n",
            "Epoch 22/30\n",
            "71/71 [==============================] - 2s 25ms/step - loss: 0.5907 - accuracy: 0.8291 - val_loss: 1.6872 - val_accuracy: 0.6545 - lr: 0.0010\n",
            "Epoch 23/30\n",
            "71/71 [==============================] - 7s 98ms/step - loss: 0.5809 - accuracy: 0.8342 - val_loss: 1.6677 - val_accuracy: 0.6705 - lr: 0.0010\n",
            "Epoch 24/30\n",
            "71/71 [==============================] - 2s 24ms/step - loss: 0.5383 - accuracy: 0.8440 - val_loss: 1.6792 - val_accuracy: 0.6541 - lr: 0.0010\n",
            "Epoch 25/30\n",
            "71/71 [==============================] - 2s 23ms/step - loss: 0.5223 - accuracy: 0.8510 - val_loss: 1.7378 - val_accuracy: 0.6541 - lr: 0.0010\n",
            "Epoch 26/30\n",
            "71/71 [==============================] - 2s 23ms/step - loss: 0.5045 - accuracy: 0.8550 - val_loss: 1.7295 - val_accuracy: 0.6625 - lr: 0.0010\n",
            "Epoch 27/30\n",
            "71/71 [==============================] - 2s 32ms/step - loss: 0.4842 - accuracy: 0.8580 - val_loss: 1.7815 - val_accuracy: 0.6541 - lr: 0.0010\n",
            "Epoch 28/30\n",
            "71/71 [==============================] - 5s 78ms/step - loss: 0.4839 - accuracy: 0.8573 - val_loss: 1.8954 - val_accuracy: 0.6736 - lr: 0.0010\n",
            "Epoch 29/30\n",
            "71/71 [==============================] - 2s 24ms/step - loss: 0.4738 - accuracy: 0.8607 - val_loss: 1.8156 - val_accuracy: 0.6625 - lr: 0.0010\n",
            "Epoch 30/30\n",
            "71/71 [==============================] - 2s 23ms/step - loss: 0.4904 - accuracy: 0.8599 - val_loss: 1.7499 - val_accuracy: 0.6603 - lr: 0.0010\n"
          ]
        }
      ],
      "source": [
        "my_callbacks = [\n",
        "    # tf.keras.callbacks.EarlyStopping(patience=15),\n",
        "    tf.keras.callbacks.ModelCheckpoint(\n",
        "        filepath='/content/reuters2-loss_{loss:.3f}_val_acc{val_accuracy:.3f}.h5',\n",
        "        monitor = 'val_accuracy',\n",
        "        save_best_only = True\n",
        "        ),\n",
        "    tf.keras.callbacks.ReduceLROnPlateau(\n",
        "        monitor = 'loss',\n",
        "        factor = 0.1,\n",
        "        patience = 3,\n",
        "        min_lr = 1e-5\n",
        "    ),\n",
        "]\n",
        "\n",
        "adam = tf.keras.optimizers.Adam(1e-3)\n",
        "\n",
        "\n",
        "model2.compile(\n",
        "    loss = 'categorical_crossentropy' ,\n",
        "    optimizer=adam,\n",
        "\tmetrics=[\"accuracy\"]\n",
        ")\n",
        "\n",
        "history2 = model2.fit(\n",
        "    x_train,y_train,\n",
        "    epochs = 30,\n",
        "    batch_size = 128,\n",
        "    validation_data=(x_test,y_test),\n",
        "    callbacks=my_callbacks)"
      ]
    },
    {
      "cell_type": "code",
      "execution_count": 28,
      "metadata": {
        "colab": {
          "base_uri": "https://localhost:8080/",
          "height": 571
        },
        "id": "saBIJOd0PWW7",
        "outputId": "8fdd3b29-c96d-40f2-8e16-a9fd146b2346"
      },
      "outputs": [
        {
          "data": {
            "image/png": "[encoded data removed]",
            "text/plain": [
              "<Figure size 432x288 with 1 Axes>"
            ]
          },
          "metadata": {
            "needs_background": "light"
          },
          "output_type": "display_data"
        },
        {
          "data": {
            "image/png": "[encoded data removed]",
            "text/plain": [
              "<Figure size 432x288 with 1 Axes>"
            ]
          },
          "metadata": {
            "needs_background": "light"
          },
          "output_type": "display_data"
        }
      ],
      "source": [
        "# Plot training process\n",
        "dict1 = history2.history\n",
        "loss = dict1['loss']\n",
        "val_loss = dict1['val_loss']\n",
        "accuracy = dict1['accuracy']\n",
        "val_accuracy = dict1['val_accuracy']\n",
        "epochs = range(1,len(loss)+1)\n",
        "\n",
        "\n",
        "plt.plot(epochs,loss, label='Train loss')\n",
        "plt.plot(epochs,val_loss,label='Val loss')\n",
        "plt.xlabel(\"Epochs\")\n",
        "plt.ylabel(\"Loss\")\n",
        "plt.legend()\n",
        "plt.title(\"Loss graph\")\n",
        "plt.show()\n",
        "\n",
        "#print(\"\\n\")\n",
        "\n",
        "plt.clf()\n",
        "plt.plot(epochs,accuracy, label='Train Accuracy')\n",
        "plt.plot(epochs,val_accuracy,label='Val Accuracy')\n",
        "plt.xlabel(\"Epochs\")\n",
        "plt.ylabel(\"Accuracy\")\n",
        "plt.legend()\n",
        "plt.title(\"Accuracy graph\")\n",
        "plt.show()"
      ]
    },
    {
      "cell_type": "code",
      "execution_count": 29,
      "metadata": {
        "colab": {
          "base_uri": "https://localhost:8080/"
        },
        "id": "tDSSJVZsbS7W",
        "outputId": "e819886e-cffe-4768-cfca-695724a68dda"
      },
      "outputs": [
        {
          "name": "stdout",
          "output_type": "stream",
          "text": [
            "71/71 [==============================] - 1s 9ms/step - loss: 1.7499 - accuracy: 0.6603\n",
            "[1.7499217987060547, 0.6602849364280701]\n"
          ]
        }
      ],
      "source": [
        "predict = model2.evaluate(x_test,y_test)\n",
        "print(predict)"
      ]
    }
  ],
  "metadata": {
    "accelerator": "GPU",
    "colab": {
      "provenance": []
    },
    "gpuClass": "standard",
    "kernelspec": {
      "display_name": "Python 3",
      "name": "python3"
    },
    "language_info": {
      "name": "python"
    }
  },
  "nbformat": 4,
  "nbformat_minor": 0
}
