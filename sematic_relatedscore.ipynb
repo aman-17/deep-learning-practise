{
  "nbformat": 4,
  "nbformat_minor": 0,
  "metadata": {
    "colab": {
      "provenance": []
    },
    "kernelspec": {
      "name": "python3",
      "display_name": "Python 3"
    },
    "language_info": {
      "name": "python"
    },
    "accelerator": "GPU",
    "gpuClass": "standard"
  },
  "cells": [
    {
      "cell_type": "code",
      "execution_count": 1,
      "metadata": {
        "id": "a4IRwSXD-7Z8"
      },
      "outputs": [],
      "source": [
        "import os\n",
        "import numpy as np\n",
        "import requests\n",
        "import tensorflow as tf\n",
        "import keras\n",
        "import matplotlib.pyplot as plt\n",
        "from keras import Model\n",
        "from keras.layers import Input, Layer, TextVectorization, Embedding, Bidirectional, LSTM, Concatenate, Dense"
      ]
    },
    {
      "cell_type": "code",
      "source": [
        "from google.colab import drive\n",
        "drive.mount('/content/drive/', force_remount=True)"
      ],
      "metadata": {
        "colab": {
          "base_uri": "https://localhost:8080/"
        },
        "id": "mYMo3Z6TQZtG",
        "outputId": "3ca6bbe5-c924-491d-dcb7-f3b11589bacc"
      },
      "execution_count": 2,
      "outputs": [
        {
          "output_type": "stream",
          "name": "stdout",
          "text": [
            "Mounted at /content/drive/\n"
          ]
        }
      ]
    },
    {
      "cell_type": "code",
      "source": [
        "# Load data\n",
        "sick_train = (\"https://raw.githubusercontent.com/alvations/stasis/master/SICK-data/SICK_train.txt\")\n",
        "sick_trial = (\"https://raw.githubusercontent.com/alvations/stasis/master/SICK-data/SICK_trial.txt\")\n",
        "train_data = requests.get(sick_train).text\n",
        "trial_data = requests.get(sick_trial).text\n",
        "data = train_data + trial_data                         # Combine train and trial data, we will split them again later\n",
        "\n",
        "split_data = data.split(\"\\n\")[1:]\n",
        "split_data = [n.split(\"\\t\") for n in split_data if len(n) > 0]\n",
        "split_data = [n for n in split_data if len(n) == 5]\n",
        "\n",
        "# print(split_data[0])\n",
        "\n",
        "all_text = []\n",
        "labels = []\n",
        "sent_a = []\n",
        "sent_b = []\n",
        "\n",
        "for sample in split_data:\n",
        "  if sample[4] == 'ENTAILMENT':      \n",
        "    all_text.append(sample[1])       \n",
        "    sent_a.append(sample[1])\n",
        "    all_text.append(sample[2])       \n",
        "    sent_b.append(sample[2])\n",
        "    labels.append(0)\n",
        "  elif sample[4] == 'CONTRADICTION': \n",
        "    all_text.append(sample[1])       \n",
        "    sent_a.append(sample[1])\n",
        "    all_text.append(sample[2])       \n",
        "    sent_b.append(sample[2])\n",
        "    labels.append(1)\n",
        "\n",
        "print(\"Number of samples =\", len(sent_a))\n",
        "print(\"Number of sentences =\", len(all_text))\n",
        "print(\"Some sample labels = \", labels[20:40])"
      ],
      "metadata": {
        "id": "fbdSmKabWmQQ",
        "colab": {
          "base_uri": "https://localhost:8080/"
        },
        "outputId": "c82a06e4-5b8f-4b2a-b7de-0ad3bbeea7be"
      },
      "execution_count": 3,
      "outputs": [
        {
          "output_type": "stream",
          "name": "stdout",
          "text": [
            "Number of samples = 2182\n",
            "Number of sentences = 4364\n",
            "Some sample labels =  [1, 0, 1, 0, 1, 0, 1, 1, 0, 1, 0, 1, 1, 0, 1, 0, 0, 0, 1, 0]\n"
          ]
        }
      ]
    },
    {
      "cell_type": "code",
      "source": [
        "# Create the vectorizer, vocabulary and inverse vocabulary using all_text\n",
        "max_length=32\n",
        "vectorizer = tf.keras.layers.TextVectorization(max_tokens=20000, output_sequence_length=max_length)\n",
        "text = tf.data.Dataset.from_tensor_slices(all_text).batch(256)\n",
        "vectorizer.adapt(text)\n",
        "vocab = vectorizer.get_vocabulary()              # Vocabulary of all words in order of frequency\n",
        "#print(vocab)\n",
        "word_index = dict(zip(vocab, range(len(vocab)))) # Inverse vocabulary\n",
        "\n",
        "print(\"Vocab length:\", len(vocab))\n",
        "print(\"Word at index 221:\", vocab[221])\n",
        "print(\"The index of 'jersey':\", word_index['jersey'])"
      ],
      "metadata": {
        "colab": {
          "base_uri": "https://localhost:8080/"
        },
        "id": "JbnbYtQav2EN",
        "outputId": "80e066f2-9536-4fa1-ed0b-0286b142c672"
      },
      "execution_count": 4,
      "outputs": [
        {
          "output_type": "stream",
          "name": "stdout",
          "text": [
            "Vocab length: 1705\n",
            "Word at index 221: jersey\n",
            "The index of 'jersey': 221\n"
          ]
        }
      ]
    },
    {
      "cell_type": "code",
      "source": [
        "# Map our vocabulary to the glove.6B.100d embedding\n",
        "\n",
        "if 0:   # change 1 to 0\n",
        "  glove_path = '/content/drive/My Drive/CS577/Final Project/'                  # location for Kael         \n",
        "  glove_file = '/content/drive/My Drive/CS577/Final Project/glove.6B.100d.txt'\n",
        "elif 1:\n",
        "  glove_path = '/content/drive/MyDrive/'                                      # location for Aman         \n",
        "  glove_file = '/content/drive/MyDrive/glove.6B.100d.txt'\n",
        "else:\n",
        "  get_glove = (\"https://resources.oreilly.com/conferences/natural-language-processing-with-deep-learning/-/raw/master/data/glove.6B.100d.txt\")\n",
        "  glove_file = requests.get(get_glove).text\n",
        " \n",
        "embedding_index = {}\n",
        "with open(glove_file) as f:\n",
        "    for line in f:\n",
        "        word, coefs = line.split(maxsplit=1)\n",
        "        coefs = np.fromstring(coefs, \"f\", sep=\" \")\n",
        "        embedding_index[word] = coefs\n",
        "\n",
        "print(\"Number of word vectors:\", len(embedding_index))"
      ],
      "metadata": {
        "colab": {
          "base_uri": "https://localhost:8080/"
        },
        "id": "s2q26pOyPyjM",
        "outputId": "62b2b843-623f-421d-c71e-db35e3163592"
      },
      "execution_count": 5,
      "outputs": [
        {
          "output_type": "stream",
          "name": "stdout",
          "text": [
            "Number of word vectors: 400000\n"
          ]
        }
      ]
    },
    {
      "cell_type": "code",
      "source": [
        "num_tokens = len(vocab) + 2\n",
        "embedding_dim = 100\n",
        "match = 0\n",
        "misses = 0\n",
        "\n",
        "# Prepare embedding matrix\n",
        "embedding_matrix = np.zeros((num_tokens, embedding_dim))\n",
        "for word, i in word_index.items():\n",
        "    embedding_vector = embedding_index.get(word)\n",
        "    if embedding_vector is not None:\n",
        "        embedding_matrix[i] = embedding_vector\n",
        "        match += 1\n",
        "    else:\n",
        "        misses += 1\n",
        "        \n",
        "print(embedding_matrix.shape)\n",
        "print(\"Number of matches:\", match)\n",
        "print(\"Number of misses:\", misses)"
      ],
      "metadata": {
        "id": "IREUCQzPRSlj",
        "colab": {
          "base_uri": "https://localhost:8080/"
        },
        "outputId": "0483abb5-991a-4911-89a8-c2cfe59c71f2"
      },
      "execution_count": 6,
      "outputs": [
        {
          "output_type": "stream",
          "name": "stdout",
          "text": [
            "(1707, 100)\n",
            "Number of matches: 1686\n",
            "Number of misses: 19\n"
          ]
        }
      ]
    },
    {
      "cell_type": "code",
      "source": [
        "# Vectorize both lists of sentences\n",
        "sent_a_vect = vectorizer(sent_a)\n",
        "sent_b_vect = vectorizer(sent_b)\n",
        "\n",
        "if 0:\n",
        "  print(\"Longest A:\", np.max(np.count_nonzero(sent_a_vect,axis=1)))\n",
        "  print(\"Longest B:\", np.max(np.count_nonzero(sent_b_vect,axis=1)))\n",
        "  print(\"Location of longest A:\", np.argmax(np.count_nonzero(sent_a_vect,axis=1)))\n",
        "  print(\"Location of longest B:\", np.argmax(np.count_nonzero(sent_b_vect,axis=1)))\n",
        "print((sent_a_vect[767].shape))\n",
        "print(len(sent_a))\n",
        "print(type(sent_b_vect[0]))"
      ],
      "metadata": {
        "id": "URT6IFeiX60e",
        "colab": {
          "base_uri": "https://localhost:8080/"
        },
        "outputId": "059b0479-fa76-46f1-c3d3-781e0d6c967a"
      },
      "execution_count": 7,
      "outputs": [
        {
          "output_type": "stream",
          "name": "stdout",
          "text": [
            "(32,)\n",
            "2182\n",
            "<class 'tensorflow.python.framework.ops.EagerTensor'>\n"
          ]
        }
      ]
    },
    {
      "cell_type": "code",
      "source": [
        "# Build an embedding layer using our embedding matrix\n",
        "embedding_layer = Embedding(\n",
        "    num_tokens,\n",
        "    embedding_dim,\n",
        "    embeddings_initializer=keras.initializers.Constant(embedding_matrix),\n",
        "    trainable=False)"
      ],
      "metadata": {
        "id": "_mlPeZF7boWb"
      },
      "execution_count": 8,
      "outputs": []
    },
    {
      "cell_type": "code",
      "source": [
        "# Split into training, validation and test sets (total samples = 2182)\n",
        "n_train = 1800\n",
        "n_val = 200           # if (n_train + n_val) = 2182 there is no test data\n",
        "print(\"n_train + n_val =\", n_train+n_val)\n",
        "#sent_a_vect\n",
        "#sent_b_vect\n",
        "\n",
        "x_train_a = np.array(sent_a_vect[0:n_train])\n",
        "x_train_b = np.array(sent_b_vect[0:n_train])\n",
        "y_train = np.array(labels[0:n_train])\n",
        "x_val_a = np.array(sent_a_vect[n_train:n_train+n_val])\n",
        "x_val_b = np.array(sent_b_vect[n_train:n_train+n_val])\n",
        "y_val = np.array(labels[n_train:n_train+n_val])\n",
        "x_test_a = np.array(sent_a_vect[n_train+n_val:])\n",
        "x_test_b = np.array(sent_b_vect[n_train+n_val:])\n",
        "y_test = np.array(labels[n_train+n_val:])\n",
        "\n",
        "print(\"n train =\", len(y_train))\n",
        "print(\"n val =\", len(y_val))\n",
        "\n",
        "#print(len(y_test))\n",
        "#print(x_train_a[0])\n",
        "#print(len(x_train_b))"
      ],
      "metadata": {
        "id": "uKOL4HjVnj8p",
        "colab": {
          "base_uri": "https://localhost:8080/"
        },
        "outputId": "2d9388e9-5bcc-40d6-e4c2-020bef0a85c7"
      },
      "execution_count": 9,
      "outputs": [
        {
          "output_type": "stream",
          "name": "stdout",
          "text": [
            "n_train + n_val = 2000\n",
            "n train = 1800\n",
            "n val = 200\n"
          ]
        }
      ]
    },
    {
      "cell_type": "code",
      "source": [
        "# Manhattan distance loss function\n",
        "import keras.backend as K\n",
        "\n",
        "class MalLSTM(Layer):\n",
        "    def __init__(self, **kwargs):\n",
        "        super(MalLSTM, self).__init__(**kwargs)\n",
        "        self.result = None\n",
        "\n",
        "    def build(self, input_shape):\n",
        "        super(MalLSTM, self).build(input_shape)\n",
        "\n",
        "    def call(self, x, **kwargs):\n",
        "        self.result = K.exp(-K.sum(K.abs(x[0] - x[1]), axis=1, keepdims=True))\n",
        "        return self.result\n",
        "\n",
        "    def compute_output_shape(self, input_shape):\n",
        "        return K.int_shape(self.result)"
      ],
      "metadata": {
        "id": "qnp6gCBbAxDi"
      },
      "execution_count": 10,
      "outputs": []
    },
    {
      "cell_type": "code",
      "source": [
        "# Build the model\n",
        "senA_inp = Input(shape=(32), dtype='int32')\n",
        "senB_inp = Input(shape=(32), dtype='int32')\n",
        "\n",
        "senA_embed = embedding_layer(senA_inp)\n",
        "senB_embed = embedding_layer(senB_inp)\n",
        "\n",
        "lstm = Bidirectional(LSTM(256,dropout=0.1))\n",
        "senA_lstm_out = lstm(senA_embed)\n",
        "senB_lstm_out = lstm(senB_embed)\n",
        "\n",
        "model_A = Model(inputs=senA_inp, outputs = senA_lstm_out)\n",
        "model_B = Model(inputs=senB_inp, outputs = senB_lstm_out)\n",
        "\n",
        "malstm_distance = MalLSTM()([senA_lstm_out, senB_lstm_out])\n",
        "\n",
        "model_full = Model(inputs=[senA_inp, senB_inp], outputs=malstm_distance)\n",
        "\n",
        "model_full.summary()"
      ],
      "metadata": {
        "colab": {
          "base_uri": "https://localhost:8080/"
        },
        "id": "bQ0myjzlpb-u",
        "outputId": "ee174efa-233e-473e-ac9d-d9f7775aac67"
      },
      "execution_count": 16,
      "outputs": [
        {
          "output_type": "stream",
          "name": "stdout",
          "text": [
            "Model: \"model_5\"\n",
            "__________________________________________________________________________________________________\n",
            " Layer (type)                   Output Shape         Param #     Connected to                     \n",
            "==================================================================================================\n",
            " input_3 (InputLayer)           [(None, 32)]         0           []                               \n",
            "                                                                                                  \n",
            " input_4 (InputLayer)           [(None, 32)]         0           []                               \n",
            "                                                                                                  \n",
            " embedding (Embedding)          (None, 32, 100)      170700      ['input_3[0][0]',                \n",
            "                                                                  'input_4[0][0]']                \n",
            "                                                                                                  \n",
            " bidirectional_1 (Bidirectional  (None, 512)         731136      ['embedding[2][0]',              \n",
            " )                                                                'embedding[3][0]']              \n",
            "                                                                                                  \n",
            " mal_lstm_1 (MalLSTM)           (None, 1)            0           ['bidirectional_1[0][0]',        \n",
            "                                                                  'bidirectional_1[1][0]']        \n",
            "                                                                                                  \n",
            "==================================================================================================\n",
            "Total params: 901,836\n",
            "Trainable params: 731,136\n",
            "Non-trainable params: 170,700\n",
            "__________________________________________________________________________________________________\n"
          ]
        }
      ]
    },
    {
      "cell_type": "code",
      "source": [
        "# Build checkpoints and compile model\n",
        "my_callbacks = [\n",
        "    tf.keras.callbacks.EarlyStopping(patience=5),\n",
        "    tf.keras.callbacks.ModelCheckpoint(\n",
        "        # filepath = '/content/drive/My Drive/CS577/Final Project/sematic-Manhattan-loss_{loss:.3f}_val_acc{val_accuracy:.3f}.h5',     # Save to final project folder in drive\n",
        "        filepath='/content/Sematic-loss_{loss:.3f}_val_acc{accuracy:.3f}.h5',\n",
        "        monitor = 'val_accuracy',\n",
        "        save_best_only = True\n",
        "        ),\n",
        "     tf.keras.callbacks.ReduceLROnPlateau(\n",
        "         monitor = 'loss',\n",
        "         factor = 0.1,\n",
        "         patience = 3,\n",
        "         min_lr = 1e-5\n",
        "     ),\n",
        "    ]\n",
        "\n",
        "model_full.compile(\n",
        "    loss = tf.keras.losses.mean_squared_error,\n",
        "    optimizer= tf.keras.optimizers.Adam(1e-3),\n",
        "\t  metrics=[\"accuracy\"]\n",
        ")"
      ],
      "metadata": {
        "id": "vtVTRetCpm6R"
      },
      "execution_count": 12,
      "outputs": []
    },
    {
      "cell_type": "code",
      "source": [
        "# Train the model\n",
        "epochs = 40\n",
        "\n",
        "history = model_full.fit(x = [x_train_a, x_train_b], y = y_train, validation_data=([x_val_a, x_val_b], y_val),\n",
        "    batch_size=64, epochs=epochs, callbacks=my_callbacks)"
      ],
      "metadata": {
        "colab": {
          "base_uri": "https://localhost:8080/"
        },
        "id": "ixpkODujpNZi",
        "outputId": "866b0d85-c72d-4b33-df25-1615b88578b4"
      },
      "execution_count": 13,
      "outputs": [
        {
          "output_type": "stream",
          "name": "stdout",
          "text": [
            "Epoch 1/40\n",
            "29/29 [==============================] - 10s 69ms/step - loss: 0.3014 - accuracy: 0.6756 - val_loss: 0.1881 - val_accuracy: 0.8000 - lr: 0.0010\n",
            "Epoch 2/40\n",
            "29/29 [==============================] - 1s 23ms/step - loss: 0.1999 - accuracy: 0.7467 - val_loss: 0.1370 - val_accuracy: 0.8350 - lr: 0.0010\n",
            "Epoch 3/40\n",
            "29/29 [==============================] - 1s 22ms/step - loss: 0.1471 - accuracy: 0.8350 - val_loss: 0.1208 - val_accuracy: 0.8500 - lr: 0.0010\n",
            "Epoch 4/40\n",
            "29/29 [==============================] - 1s 22ms/step - loss: 0.1276 - accuracy: 0.8589 - val_loss: 0.1148 - val_accuracy: 0.8550 - lr: 0.0010\n",
            "Epoch 5/40\n",
            "29/29 [==============================] - 1s 24ms/step - loss: 0.1194 - accuracy: 0.8661 - val_loss: 0.1056 - val_accuracy: 0.8800 - lr: 0.0010\n",
            "Epoch 6/40\n",
            "29/29 [==============================] - 1s 23ms/step - loss: 0.1106 - accuracy: 0.8778 - val_loss: 0.1081 - val_accuracy: 0.8850 - lr: 0.0010\n",
            "Epoch 7/40\n",
            "29/29 [==============================] - 0s 17ms/step - loss: 0.1054 - accuracy: 0.8778 - val_loss: 0.1032 - val_accuracy: 0.8850 - lr: 0.0010\n",
            "Epoch 8/40\n",
            "29/29 [==============================] - 1s 23ms/step - loss: 0.1018 - accuracy: 0.8789 - val_loss: 0.1004 - val_accuracy: 0.8950 - lr: 0.0010\n",
            "Epoch 9/40\n",
            "29/29 [==============================] - 0s 16ms/step - loss: 0.0976 - accuracy: 0.8844 - val_loss: 0.1036 - val_accuracy: 0.8850 - lr: 0.0010\n",
            "Epoch 10/40\n",
            "29/29 [==============================] - 1s 28ms/step - loss: 0.0947 - accuracy: 0.8872 - val_loss: 0.0992 - val_accuracy: 0.9000 - lr: 0.0010\n",
            "Epoch 11/40\n",
            "29/29 [==============================] - 0s 17ms/step - loss: 0.0938 - accuracy: 0.8883 - val_loss: 0.0990 - val_accuracy: 0.9000 - lr: 0.0010\n",
            "Epoch 12/40\n",
            "29/29 [==============================] - 0s 16ms/step - loss: 0.0897 - accuracy: 0.8961 - val_loss: 0.0963 - val_accuracy: 0.9000 - lr: 0.0010\n",
            "Epoch 13/40\n",
            "29/29 [==============================] - 0s 16ms/step - loss: 0.0883 - accuracy: 0.8917 - val_loss: 0.0992 - val_accuracy: 0.8950 - lr: 0.0010\n",
            "Epoch 14/40\n",
            "29/29 [==============================] - 0s 16ms/step - loss: 0.0844 - accuracy: 0.8989 - val_loss: 0.0936 - val_accuracy: 0.9000 - lr: 0.0010\n",
            "Epoch 15/40\n",
            "29/29 [==============================] - 0s 17ms/step - loss: 0.0822 - accuracy: 0.8983 - val_loss: 0.0987 - val_accuracy: 0.8950 - lr: 0.0010\n",
            "Epoch 16/40\n",
            "29/29 [==============================] - 0s 16ms/step - loss: 0.0825 - accuracy: 0.9000 - val_loss: 0.0948 - val_accuracy: 0.9000 - lr: 0.0010\n",
            "Epoch 17/40\n",
            "29/29 [==============================] - 0s 16ms/step - loss: 0.0799 - accuracy: 0.9044 - val_loss: 0.0954 - val_accuracy: 0.8950 - lr: 0.0010\n",
            "Epoch 18/40\n",
            "29/29 [==============================] - 0s 16ms/step - loss: 0.0810 - accuracy: 0.9033 - val_loss: 0.0964 - val_accuracy: 0.8950 - lr: 0.0010\n",
            "Epoch 19/40\n",
            "29/29 [==============================] - 0s 16ms/step - loss: 0.0778 - accuracy: 0.9072 - val_loss: 0.0940 - val_accuracy: 0.9000 - lr: 0.0010\n"
          ]
        }
      ]
    },
    {
      "cell_type": "code",
      "source": [
        "# Plot training process\n",
        "dict1 = history.history\n",
        "loss = dict1['loss']\n",
        "val_loss = dict1['val_loss']\n",
        "accuracy = dict1['accuracy']\n",
        "val_accuracy = dict1['val_accuracy']\n",
        "epochs = range(1,len(loss)+1)\n",
        "\n",
        "plt.plot(epochs,loss, label='Train loss')\n",
        "plt.plot(epochs,val_loss,label='Val loss')\n",
        "plt.xlabel(\"Epochs\")\n",
        "plt.ylabel(\"Loss\")\n",
        "plt.legend()\n",
        "plt.title(\"Loss\")\n",
        "plt.show()\n",
        "\n",
        "#print(\"\\n\")\n",
        "\n",
        "plt.clf()\n",
        "plt.plot(epochs,accuracy, label='Train acc')\n",
        "plt.plot(epochs,val_accuracy,label='Val acc')\n",
        "plt.xlabel(\"Epochs\")\n",
        "plt.ylabel(\"Accuracy\")\n",
        "plt.legend()\n",
        "plt.title(\"Accuracy\")\n",
        "plt.show()"
      ],
      "metadata": {
        "colab": {
          "base_uri": "https://localhost:8080/",
          "height": 571
        },
        "id": "t2-3_c2bp7yA",
        "outputId": "f488890e-a667-44e8-b0b9-06e58e6ea10d"
      },
      "execution_count": 14,
      "outputs": [
        {
          "output_type": "display_data",
          "data": {
            "text/plain": [
              "<Figure size 432x288 with 1 Axes>"
            ],
            "image/png": "[encoded data removed]"
          },
          "metadata": {
            "needs_background": "light"
          }
        },
        {
          "output_type": "display_data",
          "data": {
            "text/plain": [
              "<Figure size 432x288 with 1 Axes>"
            ],
            "image/png": "[encoded data removed]"
          },
          "metadata": {
            "needs_background": "light"
          }
        }
      ]
    },
    {
      "cell_type": "code",
      "source": [
        "# Evaluate on test data\n",
        "test_out = model_full.predict([x_test_a, x_test_b])\n",
        "predictions = np.round(test_out)\n",
        "test_diff = predictions.T-y_test\n",
        "test_errors = np.count_nonzero(test_diff)\n",
        "test_acc = (1-test_errors/len(predictions))*100\n",
        "print(\"Test accuracy =\", np.round(test_acc, 1), \"%\")\n",
        "print()\n",
        "\n",
        "id_disp = 10\n",
        "num_pred = 10\n",
        "\n",
        "print(\"Sent A:\", sent_a[id_disp])\n",
        "print(\"Sent B:\", sent_b[id_disp])\n",
        "print(\"y pred:\", predictions[id_disp])           # remember 0 means entailment and 1 means contradiction\n",
        "print(\"y true:\", y_test[id_disp])"
      ],
      "metadata": {
        "colab": {
          "base_uri": "https://localhost:8080/"
        },
        "id": "6iskdpa24cJu",
        "outputId": "1e324bad-0734-4cf5-8ee1-7de72c21aff1"
      },
      "execution_count": 15,
      "outputs": [
        {
          "output_type": "stream",
          "name": "stdout",
          "text": [
            "6/6 [==============================] - 3s 8ms/step\n",
            "Test accuracy = 85.2 %\n",
            "\n",
            "Sent A: Four girls are doing backbends and playing in the garden\n",
            "Sent B: Four girls are doing backbends and playing outdoors\n",
            "y pred: [0.]\n",
            "y true: 0\n"
          ]
        }
      ]
    }
  ]
}