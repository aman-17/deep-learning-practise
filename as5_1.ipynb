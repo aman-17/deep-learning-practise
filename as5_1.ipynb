{
  "nbformat": 4,
  "nbformat_minor": 0,
  "metadata": {
    "colab": {
      "provenance": []
    },
    "kernelspec": {
      "name": "python3",
      "display_name": "Python 3"
    },
    "language_info": {
      "name": "python"
    },
    "accelerator": "GPU",
    "gpuClass": "standard"
  },
  "cells": [
    {
      "cell_type": "code",
      "execution_count": 1,
      "metadata": {
        "id": "0owtAzeLbqDc"
      },
      "outputs": [],
      "source": [
        "import os\n",
        "import numpy as np\n",
        "import requests\n",
        "import tensorflow as tf\n",
        "import keras\n",
        "import matplotlib.pyplot as plt\n",
        "from keras.datasets import imdb\n",
        "from keras import preprocessing"
      ]
    },
    {
      "cell_type": "code",
      "source": [
        "from google.colab import drive\n",
        "drive.mount('/content/drive/', force_remount=True)"
      ],
      "metadata": {
        "colab": {
          "base_uri": "https://localhost:8080/"
        },
        "id": "DpdS-5eobw4a",
        "outputId": "a415c3bc-6dac-47d9-bc7f-c2b5370ee489"
      },
      "execution_count": 3,
      "outputs": [
        {
          "output_type": "stream",
          "name": "stdout",
          "text": [
            "Mounted at /content/drive/\n"
          ]
        }
      ]
    },
    {
      "cell_type": "code",
      "source": [
        "(x_train, y_train), (x_test, y_test) = imdb.load_data(num_words=200000)"
      ],
      "metadata": {
        "id": "qy4AADT2cdfa",
        "colab": {
          "base_uri": "https://localhost:8080/"
        },
        "outputId": "0199ba2e-87ee-400c-91e1-4cd1354d68ce"
      },
      "execution_count": 4,
      "outputs": [
        {
          "output_type": "stream",
          "name": "stdout",
          "text": [
            "Downloading data from https://storage.googleapis.com/tensorflow/tf-keras-datasets/imdb.npz\n",
            "17464789/17464789 [==============================] - 2s 0us/step\n"
          ]
        }
      ]
    },
    {
      "cell_type": "code",
      "source": [
        "glove_path = '/content/drive/MyDrive/'                                            \n",
        "glove_file = '/content/drive/MyDrive/glove.6B.100d.txt'\n",
        " \n",
        "embedding_index = {}\n",
        "with open(glove_file) as f:\n",
        "    for line in f:\n",
        "        word, coefs = line.split(maxsplit=1)\n",
        "        coefs = np.fromstring(coefs, \"f\", sep=\" \")\n",
        "        embedding_index[word] = coefs\n",
        "\n",
        "print(\"Number of word vectors:\", len(embedding_index))"
      ],
      "metadata": {
        "colab": {
          "base_uri": "https://localhost:8080/"
        },
        "id": "7GMWKgqPdJZE",
        "outputId": "998ba4f4-aeae-4c0f-d3cf-b93c2608211b"
      },
      "execution_count": 5,
      "outputs": [
        {
          "output_type": "stream",
          "name": "stdout",
          "text": [
            "Number of word vectors: 400000\n"
          ]
        }
      ]
    },
    {
      "cell_type": "code",
      "source": [
        "word_index = imdb.get_word_index()\n",
        "embedding_dim = 100\n",
        "match = 0\n",
        "misses = 0\n",
        "\n",
        "embedding_matrix = np.zeros((200000, embedding_dim))\n",
        "for word, i in word_index.items():\n",
        "    embedding_vector = embedding_index.get(word)\n",
        "    if embedding_vector is not None:\n",
        "        embedding_matrix[i] = embedding_vector\n",
        "        match += 1\n",
        "    else:\n",
        "        misses += 1\n",
        "        \n",
        "print(embedding_matrix.shape)\n",
        "print(\"Number of matches:\", match)\n",
        "print(\"Number of misses:\", misses)"
      ],
      "metadata": {
        "colab": {
          "base_uri": "https://localhost:8080/"
        },
        "id": "2IukTnqTc1pS",
        "outputId": "d1e4a7b4-e2ac-4d41-9552-035bd9523fb0"
      },
      "execution_count": 6,
      "outputs": [
        {
          "output_type": "stream",
          "name": "stdout",
          "text": [
            "Downloading data from https://storage.googleapis.com/tensorflow/tf-keras-datasets/imdb_word_index.json\n",
            "1641221/1641221 [==============================] - 0s 0us/step\n",
            "(200000, 100)\n",
            "Number of matches: 60150\n",
            "Number of misses: 28434\n"
          ]
        }
      ]
    },
    {
      "cell_type": "code",
      "source": [
        "x_train = tf.keras.preprocessing.sequence.pad_sequences(x_train,maxlen=128)\n",
        "x_test = tf.keras.preprocessing.sequence.pad_sequences(x_test,maxlen=128)"
      ],
      "metadata": {
        "id": "zLLbLQc2kfJ5"
      },
      "execution_count": 7,
      "outputs": []
    },
    {
      "cell_type": "code",
      "source": [
        "inputShape = tf.keras.layers.Input(shape=(128))\n",
        "\n",
        "embedding_layer = tf.keras.layers.Embedding(\n",
        "    200000,\n",
        "    embedding_dim,\n",
        "    embeddings_initializer=keras.initializers.Constant(embedding_matrix),\n",
        "    trainable=False)\n",
        "\n",
        "embeddings = embedding_layer(inputShape)\n",
        "x = tf.keras.layers.Flatten()(embeddings)\n",
        "x = tf.keras.layers.Dense(128,activation='sigmoid')(x)\n",
        "x = tf.keras.layers.Dropout(0.2)(x)\n",
        "x = tf.keras.layers.Dense(1,activation='sigmoid')(x)\n",
        "\n",
        "model1 = tf.keras.Model(inputs = inputShape, outputs = x)\n",
        "\n",
        "model1.summary()\n"
      ],
      "metadata": {
        "colab": {
          "base_uri": "https://localhost:8080/"
        },
        "id": "JYT9kaK2lqIt",
        "outputId": "f406ae1c-eb17-48a2-b9e6-21cec4d32180"
      },
      "execution_count": 8,
      "outputs": [
        {
          "output_type": "stream",
          "name": "stdout",
          "text": [
            "Model: \"model\"\n",
            "_________________________________________________________________\n",
            " Layer (type)                Output Shape              Param #   \n",
            "=================================================================\n",
            " input_1 (InputLayer)        [(None, 128)]             0         \n",
            "                                                                 \n",
            " embedding (Embedding)       (None, 128, 100)          20000000  \n",
            "                                                                 \n",
            " flatten (Flatten)           (None, 12800)             0         \n",
            "                                                                 \n",
            " dense (Dense)               (None, 128)               1638528   \n",
            "                                                                 \n",
            " dropout (Dropout)           (None, 128)               0         \n",
            "                                                                 \n",
            " dense_1 (Dense)             (None, 1)                 129       \n",
            "                                                                 \n",
            "=================================================================\n",
            "Total params: 21,638,657\n",
            "Trainable params: 1,638,657\n",
            "Non-trainable params: 20,000,000\n",
            "_________________________________________________________________\n"
          ]
        }
      ]
    },
    {
      "cell_type": "code",
      "source": [
        "my_callbacks = [\n",
        "    # tf.keras.callbacks.EarlyStopping(patience=15),\n",
        "    tf.keras.callbacks.ModelCheckpoint(\n",
        "        filepath='/content/imdb-loss_{loss:.3f}_val_acc{val_accuracy:.3f}.h5',\n",
        "        monitor = 'val_accuracy',\n",
        "        save_best_only = True\n",
        "        ),\n",
        "    tf.keras.callbacks.ReduceLROnPlateau(\n",
        "        monitor = 'loss',\n",
        "        factor = 0.1,\n",
        "        patience = 3,\n",
        "        min_lr = 1e-5\n",
        "    ),\n",
        "]\n",
        "\n",
        "adam = tf.keras.optimizers.Adam(1e-3)\n",
        "\n",
        "\n",
        "model1.compile(\n",
        "    loss = 'binary_crossentropy' ,\n",
        "    optimizer=adam,\n",
        "\tmetrics=[\"accuracy\"]\n",
        ")\n",
        "\n",
        "history1 = model1.fit(\n",
        "    x_train,y_train,\n",
        "    epochs = 10,\n",
        "    batch_size = 128,\n",
        "    validation_data=(x_test,y_test),\n",
        "    callbacks=my_callbacks)"
      ],
      "metadata": {
        "colab": {
          "base_uri": "https://localhost:8080/"
        },
        "id": "7NRXPLgXOEy5",
        "outputId": "13e02777-25da-4d1f-f8ca-f690906c9a4e"
      },
      "execution_count": null,
      "outputs": [
        {
          "output_type": "stream",
          "name": "stdout",
          "text": [
            "Epoch 1/10\n",
            "196/196 [==============================] - 15s 72ms/step - loss: 0.7439 - accuracy: 0.5084 - val_loss: 0.6925 - val_accuracy: 0.5146 - lr: 0.0010\n",
            "Epoch 2/10\n",
            "196/196 [==============================] - 12s 62ms/step - loss: 0.6921 - accuracy: 0.5461 - val_loss: 0.6863 - val_accuracy: 0.5515 - lr: 0.0010\n",
            "Epoch 3/10\n",
            "196/196 [==============================] - 11s 58ms/step - loss: 0.6491 - accuracy: 0.6257 - val_loss: 0.6832 - val_accuracy: 0.5665 - lr: 0.0010\n",
            "Epoch 4/10\n",
            "196/196 [==============================] - 16s 83ms/step - loss: 0.6038 - accuracy: 0.6806 - val_loss: 0.6826 - val_accuracy: 0.5786 - lr: 0.0010\n",
            "Epoch 5/10\n",
            "196/196 [==============================] - 12s 62ms/step - loss: 0.5603 - accuracy: 0.7172 - val_loss: 0.7018 - val_accuracy: 0.5815 - lr: 0.0010\n",
            "Epoch 6/10\n",
            "196/196 [==============================] - 1s 6ms/step - loss: 0.5029 - accuracy: 0.7624 - val_loss: 0.7455 - val_accuracy: 0.5793 - lr: 0.0010\n",
            "Epoch 7/10\n",
            "196/196 [==============================] - 1s 5ms/step - loss: 0.4552 - accuracy: 0.7950 - val_loss: 0.7438 - val_accuracy: 0.5771 - lr: 0.0010\n",
            "Epoch 8/10\n",
            "196/196 [==============================] - 1s 5ms/step - loss: 0.4000 - accuracy: 0.8286 - val_loss: 0.7844 - val_accuracy: 0.5796 - lr: 0.0010\n",
            "Epoch 9/10\n",
            "196/196 [==============================] - 1s 6ms/step - loss: 0.3444 - accuracy: 0.8594 - val_loss: 0.8235 - val_accuracy: 0.5807 - lr: 0.0010\n",
            "Epoch 10/10\n",
            "196/196 [==============================] - 1s 5ms/step - loss: 0.2905 - accuracy: 0.8952 - val_loss: 0.8894 - val_accuracy: 0.5810 - lr: 0.0010\n"
          ]
        }
      ]
    },
    {
      "cell_type": "code",
      "source": [
        "# Plot training process\n",
        "dict1 = history1.history\n",
        "loss = dict1['loss']\n",
        "val_loss = dict1['val_loss']\n",
        "accuracy = dict1['accuracy']\n",
        "val_accuracy = dict1['val_accuracy']\n",
        "epochs = range(1,len(loss)+1)\n",
        "\n",
        "\n",
        "plt.plot(epochs,loss, label='Train loss')\n",
        "plt.plot(epochs,val_loss,label='Val loss')\n",
        "plt.xlabel(\"Epochs\")\n",
        "plt.ylabel(\"Loss\")\n",
        "plt.legend()\n",
        "plt.title(\"Loss graph\")\n",
        "plt.show()\n",
        "\n",
        "#print(\"\\n\")\n",
        "\n",
        "plt.clf()\n",
        "plt.plot(epochs,accuracy, label='Train Accuracy')\n",
        "plt.plot(epochs,val_accuracy,label='Val Accuracy')\n",
        "plt.xlabel(\"Epochs\")\n",
        "plt.ylabel(\"Accuracy\")\n",
        "plt.legend()\n",
        "plt.title(\"Accuracy graph\")\n",
        "plt.show()"
      ],
      "metadata": {
        "colab": {
          "base_uri": "https://localhost:8080/",
          "height": 571
        },
        "id": "VKUMR5nulmBJ",
        "outputId": "6c2a2316-cd78-46b2-d2cb-7152fdbba734"
      },
      "execution_count": null,
      "outputs": [
        {
          "output_type": "display_data",
          "data": {
            "text/plain": [
              "<Figure size 432x288 with 1 Axes>"
            ],
            "image/png": "[encoded data removed]"
          },
          "metadata": {
            "needs_background": "light"
          }
        },
        {
          "output_type": "display_data",
          "data": {
            "text/plain": [
              "<Figure size 432x288 with 1 Axes>"
            ],
            "image/png": "[encoded data removed]"
          },
          "metadata": {
            "needs_background": "light"
          }
        }
      ]
    },
    {
      "cell_type": "code",
      "source": [
        "inputShape = tf.keras.layers.Input(shape=(128))\n",
        "\n",
        "embedding_layer = tf.keras.layers.Embedding(\n",
        "    200000,\n",
        "    embedding_dim,\n",
        "    embeddings_initializer=keras.initializers.Constant(embedding_matrix),\n",
        "    trainable=False)\n",
        "\n",
        "embeddings = embedding_layer(inputShape)\n",
        "x = tf.keras.layers.LSTM(64,dropout=0.5)(embeddings)\n",
        "x = tf.keras.layers.Flatten()(x)\n",
        "x = tf.keras.layers.Dense(64,activation='relu')(x)\n",
        "x = tf.keras.layers.Dropout(0.2)(x)\n",
        "x = tf.keras.layers.Dense(1,activation='sigmoid')(x)\n",
        "\n",
        "model2 = tf.keras.Model(inputs = inputShape, outputs = x)\n",
        "\n",
        "model2.summary()\n"
      ],
      "metadata": {
        "colab": {
          "base_uri": "https://localhost:8080/"
        },
        "id": "27KmDd5KOIFV",
        "outputId": "a669cc9c-aa13-402f-d668-20f8d8792695"
      },
      "execution_count": 9,
      "outputs": [
        {
          "output_type": "stream",
          "name": "stdout",
          "text": [
            "Model: \"model_1\"\n",
            "_________________________________________________________________\n",
            " Layer (type)                Output Shape              Param #   \n",
            "=================================================================\n",
            " input_2 (InputLayer)        [(None, 128)]             0         \n",
            "                                                                 \n",
            " embedding_1 (Embedding)     (None, 128, 100)          20000000  \n",
            "                                                                 \n",
            " lstm (LSTM)                 (None, 64)                42240     \n",
            "                                                                 \n",
            " flatten_1 (Flatten)         (None, 64)                0         \n",
            "                                                                 \n",
            " dense_2 (Dense)             (None, 64)                4160      \n",
            "                                                                 \n",
            " dropout_1 (Dropout)         (None, 64)                0         \n",
            "                                                                 \n",
            " dense_3 (Dense)             (None, 1)                 65        \n",
            "                                                                 \n",
            "=================================================================\n",
            "Total params: 20,046,465\n",
            "Trainable params: 46,465\n",
            "Non-trainable params: 20,000,000\n",
            "_________________________________________________________________\n"
          ]
        }
      ]
    },
    {
      "cell_type": "code",
      "source": [
        "my_callbacks = [\n",
        "    # tf.keras.callbacks.EarlyStopping(patience=15),\n",
        "    tf.keras.callbacks.ModelCheckpoint(\n",
        "        filepath='/content/imdb-loss_{loss:.3f}_val_acc{val_accuracy:.3f}.h5',\n",
        "        monitor = 'val_accuracy',\n",
        "        save_best_only = True\n",
        "        ),\n",
        "    tf.keras.callbacks.ReduceLROnPlateau(\n",
        "        monitor = 'loss',\n",
        "        factor = 0.1,\n",
        "        patience = 3,\n",
        "        min_lr = 1e-5\n",
        "    ),\n",
        "]\n",
        "\n",
        "adam = tf.keras.optimizers.Adam(1e-3)\n",
        "\n",
        "\n",
        "model2.compile(\n",
        "    loss = 'binary_crossentropy' ,\n",
        "    optimizer=adam,\n",
        "\tmetrics=[\"accuracy\"]\n",
        ")\n",
        "\n",
        "history2 = model2.fit(\n",
        "    x_train,y_train,\n",
        "    epochs = 20,\n",
        "    batch_size = 128,\n",
        "    validation_data=(x_test,y_test),\n",
        "    callbacks=my_callbacks)"
      ],
      "metadata": {
        "colab": {
          "base_uri": "https://localhost:8080/"
        },
        "id": "_RhFXA_LPRhg",
        "outputId": "9b52eb21-1e53-47ba-febc-d88f8823cbee"
      },
      "execution_count": 11,
      "outputs": [
        {
          "output_type": "stream",
          "name": "stdout",
          "text": [
            "Epoch 1/20\n",
            "196/196 [==============================] - 14s 63ms/step - loss: 0.6788 - accuracy: 0.5703 - val_loss: 0.6598 - val_accuracy: 0.6125 - lr: 0.0010\n",
            "Epoch 2/20\n",
            "196/196 [==============================] - 3s 15ms/step - loss: 0.6620 - accuracy: 0.6015 - val_loss: 0.6964 - val_accuracy: 0.5690 - lr: 0.0010\n",
            "Epoch 3/20\n",
            "196/196 [==============================] - 12s 59ms/step - loss: 0.6477 - accuracy: 0.6238 - val_loss: 0.6387 - val_accuracy: 0.6367 - lr: 0.0010\n",
            "Epoch 4/20\n",
            "196/196 [==============================] - 3s 14ms/step - loss: 0.6316 - accuracy: 0.6377 - val_loss: 0.6493 - val_accuracy: 0.6146 - lr: 0.0010\n",
            "Epoch 5/20\n",
            "196/196 [==============================] - 11s 57ms/step - loss: 0.6160 - accuracy: 0.6566 - val_loss: 0.6265 - val_accuracy: 0.6511 - lr: 0.0010\n",
            "Epoch 6/20\n",
            "196/196 [==============================] - 11s 58ms/step - loss: 0.6008 - accuracy: 0.6706 - val_loss: 0.5641 - val_accuracy: 0.7043 - lr: 0.0010\n",
            "Epoch 7/20\n",
            "196/196 [==============================] - 3s 14ms/step - loss: 0.5879 - accuracy: 0.6818 - val_loss: 0.6378 - val_accuracy: 0.6742 - lr: 0.0010\n",
            "Epoch 8/20\n",
            "196/196 [==============================] - 11s 59ms/step - loss: 0.5738 - accuracy: 0.6936 - val_loss: 0.5588 - val_accuracy: 0.7100 - lr: 0.0010\n",
            "Epoch 9/20\n",
            "196/196 [==============================] - 11s 58ms/step - loss: 0.5639 - accuracy: 0.7041 - val_loss: 0.5319 - val_accuracy: 0.7282 - lr: 0.0010\n",
            "Epoch 10/20\n",
            "196/196 [==============================] - 3s 14ms/step - loss: 0.5510 - accuracy: 0.7158 - val_loss: 0.5967 - val_accuracy: 0.7164 - lr: 0.0010\n",
            "Epoch 11/20\n",
            "196/196 [==============================] - 3s 14ms/step - loss: 0.5466 - accuracy: 0.7178 - val_loss: 0.6281 - val_accuracy: 0.6814 - lr: 0.0010\n",
            "Epoch 12/20\n",
            "196/196 [==============================] - 3s 16ms/step - loss: 0.5361 - accuracy: 0.7264 - val_loss: 0.5518 - val_accuracy: 0.7122 - lr: 0.0010\n",
            "Epoch 13/20\n",
            "196/196 [==============================] - 12s 61ms/step - loss: 0.5242 - accuracy: 0.7344 - val_loss: 0.5465 - val_accuracy: 0.7307 - lr: 0.0010\n",
            "Epoch 14/20\n",
            "196/196 [==============================] - 3s 17ms/step - loss: 0.5234 - accuracy: 0.7366 - val_loss: 0.5311 - val_accuracy: 0.7293 - lr: 0.0010\n",
            "Epoch 15/20\n",
            "196/196 [==============================] - 3s 14ms/step - loss: 0.5126 - accuracy: 0.7436 - val_loss: 0.5799 - val_accuracy: 0.6958 - lr: 0.0010\n",
            "Epoch 16/20\n",
            "196/196 [==============================] - 12s 60ms/step - loss: 0.5073 - accuracy: 0.7460 - val_loss: 0.4872 - val_accuracy: 0.7647 - lr: 0.0010\n",
            "Epoch 17/20\n",
            "196/196 [==============================] - 11s 59ms/step - loss: 0.4994 - accuracy: 0.7524 - val_loss: 0.4707 - val_accuracy: 0.7712 - lr: 0.0010\n",
            "Epoch 18/20\n",
            "196/196 [==============================] - 3s 14ms/step - loss: 0.4969 - accuracy: 0.7543 - val_loss: 0.6001 - val_accuracy: 0.6946 - lr: 0.0010\n",
            "Epoch 19/20\n",
            "196/196 [==============================] - 3s 14ms/step - loss: 0.4849 - accuracy: 0.7621 - val_loss: 0.5170 - val_accuracy: 0.7445 - lr: 0.0010\n",
            "Epoch 20/20\n",
            "196/196 [==============================] - 3s 14ms/step - loss: 0.4836 - accuracy: 0.7654 - val_loss: 0.5910 - val_accuracy: 0.7057 - lr: 0.0010\n"
          ]
        }
      ]
    },
    {
      "cell_type": "code",
      "source": [
        "# Plot training process\n",
        "dict1 = history2.history\n",
        "loss = dict1['loss']\n",
        "val_loss = dict1['val_loss']\n",
        "accuracy = dict1['accuracy']\n",
        "val_accuracy = dict1['val_accuracy']\n",
        "epochs = range(1,len(loss)+1)\n",
        "\n",
        "\n",
        "plt.plot(epochs,loss, label='Train loss')\n",
        "plt.plot(epochs,val_loss,label='Val loss')\n",
        "plt.xlabel(\"Epochs\")\n",
        "plt.ylabel(\"Loss\")\n",
        "plt.legend()\n",
        "plt.title(\"Loss graph\")\n",
        "plt.show()\n",
        "\n",
        "#print(\"\\n\")\n",
        "\n",
        "plt.clf()\n",
        "plt.plot(epochs,accuracy, label='Train Accuracy')\n",
        "plt.plot(epochs,val_accuracy,label='Val Accuracy')\n",
        "plt.xlabel(\"Epochs\")\n",
        "plt.ylabel(\"Accuracy\")\n",
        "plt.legend()\n",
        "plt.title(\"Accuracy graph\")\n",
        "plt.show()"
      ],
      "metadata": {
        "colab": {
          "base_uri": "https://localhost:8080/",
          "height": 571
        },
        "id": "saBIJOd0PWW7",
        "outputId": "bbc44382-bac4-4483-de8c-117645422fe5"
      },
      "execution_count": 12,
      "outputs": [
        {
          "output_type": "display_data",
          "data": {
            "text/plain": [
              "<Figure size 432x288 with 1 Axes>"
            ],
            "image/png": "[encoded data removed]"
          },
          "metadata": {
            "needs_background": "light"
          }
        },
        {
          "output_type": "display_data",
          "data": {
            "text/plain": [
              "<Figure size 432x288 with 1 Axes>"
            ],
            "image/png": "[encoded data removed]"
          },
          "metadata": {
            "needs_background": "light"
          }
        }
      ]
    },
    {
      "cell_type": "code",
      "source": [
        "inputShape = tf.keras.layers.Input(shape=(128))\n",
        "\n",
        "embedding_layer = tf.keras.layers.Embedding(\n",
        "    200000,\n",
        "    embedding_dim,\n",
        "    embeddings_initializer=keras.initializers.Constant(embedding_matrix),\n",
        "    trainable=False)\n",
        "\n",
        "embeddings = embedding_layer(inputShape)\n",
        "x = tf.keras.layers.Flatten()(embeddings)\n",
        "x = tf.keras.layers.Dense(128,activation='sigmoid')(x)\n",
        "x = tf.keras.layers.Dropout(0.2)(x)\n",
        "x = tf.keras.layers.Dense(1,activation='sigmoid')(x)\n",
        "\n",
        "model3 = tf.keras.Model(inputs = inputShape, outputs = x)\n",
        "model3.get_layer(name='embedding_5').trainable = False\n",
        "model3.summary()\n"
      ],
      "metadata": {
        "colab": {
          "base_uri": "https://localhost:8080/"
        },
        "id": "FyUjv956Pzo5",
        "outputId": "b4a42045-e99e-4d30-ada1-44e85c2ba830"
      },
      "execution_count": null,
      "outputs": [
        {
          "output_type": "stream",
          "name": "stdout",
          "text": [
            "Model: \"model_5\"\n",
            "_________________________________________________________________\n",
            " Layer (type)                Output Shape              Param #   \n",
            "=================================================================\n",
            " input_6 (InputLayer)        [(None, 128)]             0         \n",
            "                                                                 \n",
            " embedding_5 (Embedding)     (None, 128, 100)          20000000  \n",
            "                                                                 \n",
            " flatten_5 (Flatten)         (None, 12800)             0         \n",
            "                                                                 \n",
            " dense_10 (Dense)            (None, 128)               1638528   \n",
            "                                                                 \n",
            " dropout_5 (Dropout)         (None, 128)               0         \n",
            "                                                                 \n",
            " dense_11 (Dense)            (None, 1)                 129       \n",
            "                                                                 \n",
            "=================================================================\n",
            "Total params: 21,638,657\n",
            "Trainable params: 1,638,657\n",
            "Non-trainable params: 20,000,000\n",
            "_________________________________________________________________\n"
          ]
        }
      ]
    },
    {
      "cell_type": "code",
      "source": [
        "my_callbacks = [\n",
        "    # tf.keras.callbacks.EarlyStopping(patience=15),\n",
        "    tf.keras.callbacks.ModelCheckpoint(\n",
        "        filepath='/content/imdb-loss1_{loss:.3f}_val_acc{val_accuracy:.3f}.h5',\n",
        "        monitor = 'val_accuracy',\n",
        "        save_best_only = True\n",
        "        ),\n",
        "    tf.keras.callbacks.ReduceLROnPlateau(\n",
        "        monitor = 'loss',\n",
        "        factor = 0.1,\n",
        "        patience = 3,\n",
        "        min_lr = 1e-5\n",
        "    ),\n",
        "]\n",
        "\n",
        "adam = tf.keras.optimizers.Adam(1e-3)\n",
        "\n",
        "\n",
        "model2.compile(\n",
        "    loss = 'binary_crossentropy' ,\n",
        "    optimizer=adam,\n",
        "\tmetrics=[\"accuracy\"]\n",
        ")\n",
        "\n",
        "history2 = model2.fit(\n",
        "    x_train,y_train,\n",
        "    epochs = 10,\n",
        "    batch_size = 128,\n",
        "    validation_data=(x_test,y_test),\n",
        "    callbacks=my_callbacks)"
      ],
      "metadata": {
        "colab": {
          "base_uri": "https://localhost:8080/"
        },
        "id": "x6xIct3DQs4k",
        "outputId": "015291f3-e4ee-4518-ad71-2a022d216a95"
      },
      "execution_count": null,
      "outputs": [
        {
          "output_type": "stream",
          "name": "stdout",
          "text": [
            "Epoch 1/10\n",
            "196/196 [==============================] - 12s 59ms/step - loss: 0.2801 - accuracy: 0.8660 - val_loss: 1.1454 - val_accuracy: 0.5739 - lr: 0.0010\n",
            "Epoch 2/10\n",
            "196/196 [==============================] - 10s 53ms/step - loss: 0.2404 - accuracy: 0.8800 - val_loss: 1.2254 - val_accuracy: 0.5747 - lr: 0.0010\n",
            "Epoch 3/10\n",
            "196/196 [==============================] - 1s 7ms/step - loss: 0.2244 - accuracy: 0.8875 - val_loss: 1.1456 - val_accuracy: 0.5706 - lr: 0.0010\n",
            "Epoch 4/10\n",
            "196/196 [==============================] - 1s 7ms/step - loss: 0.2053 - accuracy: 0.8961 - val_loss: 1.3545 - val_accuracy: 0.5738 - lr: 0.0010\n",
            "Epoch 5/10\n",
            "196/196 [==============================] - 1s 5ms/step - loss: 0.1956 - accuracy: 0.8988 - val_loss: 1.2326 - val_accuracy: 0.5677 - lr: 0.0010\n",
            "Epoch 6/10\n",
            "196/196 [==============================] - 1s 7ms/step - loss: 0.1913 - accuracy: 0.9018 - val_loss: 1.4663 - val_accuracy: 0.5725 - lr: 0.0010\n",
            "Epoch 7/10\n",
            "196/196 [==============================] - 1s 5ms/step - loss: 0.1769 - accuracy: 0.9045 - val_loss: 1.6985 - val_accuracy: 0.5725 - lr: 0.0010\n",
            "Epoch 8/10\n",
            "196/196 [==============================] - 1s 5ms/step - loss: 0.1653 - accuracy: 0.9128 - val_loss: 1.4718 - val_accuracy: 0.5678 - lr: 0.0010\n",
            "Epoch 9/10\n",
            "196/196 [==============================] - 1s 7ms/step - loss: 0.1646 - accuracy: 0.9139 - val_loss: 1.3815 - val_accuracy: 0.5683 - lr: 0.0010\n",
            "Epoch 10/10\n",
            "196/196 [==============================] - 1s 5ms/step - loss: 0.1610 - accuracy: 0.9165 - val_loss: 1.8256 - val_accuracy: 0.5695 - lr: 0.0010\n"
          ]
        }
      ]
    },
    {
      "cell_type": "code",
      "source": [
        "# Plot training process\n",
        "dict1 = history2.history\n",
        "loss = dict1['loss']\n",
        "val_loss = dict1['val_loss']\n",
        "accuracy = dict1['accuracy']\n",
        "val_accuracy = dict1['val_accuracy']\n",
        "epochs = range(1,len(loss)+1)\n",
        "\n",
        "\n",
        "plt.plot(epochs,loss, label='Train loss')\n",
        "plt.plot(epochs,val_loss,label='Val loss')\n",
        "plt.xlabel(\"Epochs\")\n",
        "plt.ylabel(\"Loss\")\n",
        "plt.legend()\n",
        "plt.title(\"Loss graph\")\n",
        "plt.show()\n",
        "\n",
        "#print(\"\\n\")\n",
        "\n",
        "plt.clf()\n",
        "plt.plot(epochs,accuracy, label='Train Accuracy')\n",
        "plt.plot(epochs,val_accuracy,label='Val Accuracy')\n",
        "plt.xlabel(\"Epochs\")\n",
        "plt.ylabel(\"Accuracy\")\n",
        "plt.legend()\n",
        "plt.title(\"Accuracy graph\")\n",
        "plt.show()"
      ],
      "metadata": {
        "colab": {
          "base_uri": "https://localhost:8080/",
          "height": 571
        },
        "id": "4-ACYrKbPr9y",
        "outputId": "a4dbe5bc-5b71-4727-f28e-c194aa517127"
      },
      "execution_count": null,
      "outputs": [
        {
          "output_type": "display_data",
          "data": {
            "text/plain": [
              "<Figure size 432x288 with 1 Axes>"
            ],
            "image/png": "[encoded data removed]"
          },
          "metadata": {
            "needs_background": "light"
          }
        },
        {
          "output_type": "display_data",
          "data": {
            "text/plain": [
              "<Figure size 432x288 with 1 Axes>"
            ],
            "image/png": "[encoded data removed]"
          },
          "metadata": {
            "needs_background": "light"
          }
        }
      ]
    },
    {
      "cell_type": "code",
      "source": [
        "test_out = model1.predict(x_test)\n",
        "predictions = np.round(test_out)\n",
        "test_diff = predictions.T-y_test\n",
        "test_errors = np.count_nonzero(test_diff)\n",
        "test_acc = (1-test_errors/len(predictions))*100\n",
        "print(\"Test accuracy =\", np.round(test_acc, 1), \"%\")\n",
        "print()"
      ],
      "metadata": {
        "colab": {
          "base_uri": "https://localhost:8080/"
        },
        "id": "mlFcrshERDY_",
        "outputId": "1a2c66fa-b5e3-4318-b0e4-30245d80dcd6"
      },
      "execution_count": null,
      "outputs": [
        {
          "output_type": "stream",
          "name": "stdout",
          "text": [
            "782/782 [==============================] - 1s 2ms/step\n",
            "Test accuracy = 58.1 %\n",
            "\n"
          ]
        }
      ]
    }
  ]
}